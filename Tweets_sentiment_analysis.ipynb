{
  "cells": [
    {
      "cell_type": "markdown",
      "metadata": {
        "id": "nv5K0ShC_0K6"
      },
      "source": [
        "# **Tweets Sentiment Analysis** "
      ]
    },
    {
      "cell_type": "markdown",
      "metadata": {
        "id": "kLG2VTrnTvYL"
      },
      "source": [
        "## 1. Business Understanding\n",
        "\n",
        "In a world where technology startups are common, consumer perception of a brand can provide us with valuable information about their purchasing behavior and, in turn, the financial performance of the business that produces them.In order to determine which brands to research further for potential investment, Longview techventures wants a generalizable model to measure sentiment across various brands. Because people only purchase items they like, Longview techventures is only interested in whether consumers feel positive about the brand.Longview techventures, a technology investment firm, has hired us to help them develop a predictive model that keeps track of recent tweets about tech products so they can make smart investment choices."
      ]
    },
    {
      "cell_type": "markdown",
      "metadata": {
        "id": "XecOwPNorl2W"
      },
      "source": [
        "### a) Specifying the Data Analytic Question"
      ]
    },
    {
      "cell_type": "markdown",
      "metadata": {
        "id": "9ozBnKfehSAw"
      },
      "source": [
        "What does the public feel about the apple and android products?"
      ]
    },
    {
      "cell_type": "markdown",
      "metadata": {
        "id": "J4wfHZwQrs-t"
      },
      "source": [
        "### b) Defining the Metric for Success"
      ]
    },
    {
      "cell_type": "markdown",
      "metadata": {
        "id": "iH0hgPO0AFKF"
      },
      "source": [
        "We don't want to overvalue or undervalue a company, however, in the current market condition where labor cost and shortage is prominent, spending human resources to evaluate a company and finding out it's not worth investing in is more costly. Therefore, we care about maximizing accuracy as well as precision to about 80%."
      ]
    },
    {
      "cell_type": "markdown",
      "metadata": {
        "id": "a9BPYqunry97"
      },
      "source": [
        "### c) Understanding the context "
      ]
    },
    {
      "cell_type": "markdown",
      "metadata": {
        "id": "EGJtoPasxUf3"
      },
      "source": [
        "False positive in this case would mean our model predicts that a consumer has positive emotions towards a brand but they actually don't, leading to overvaluing of a potential investment opportunity and wasting human capital.\n",
        "\n",
        "False negative in this case would mean our model predicts that a consumer doesn't have positive emotions towards a brand but they actually do, leading to missing a potential investment opportunity."
      ]
    },
    {
      "cell_type": "markdown",
      "metadata": {
        "id": "zSGyg6kWsBUl"
      },
      "source": [
        "### d) Data Relevance"
      ]
    },
    {
      "cell_type": "markdown",
      "metadata": {
        "id": "Tb3vVCn8CgbH"
      },
      "source": [
        "Longview Techventures will use the data to determine which products to invest in to increase their profits based on customer satisfaction."
      ]
    },
    {
      "cell_type": "markdown",
      "metadata": {
        "id": "LJj6f1dixUf7"
      },
      "source": [
        "## 2. DATA UNDERSTANDING\n",
        "\n",
        "[Data.world](https://data.world/crowdflower/brands-and-product-emotions) through CrowdFlower, provided the dataset. Over 9,000 Tweets were rated as either positive, negative, or neither by human raters. The tweets are from the South by South West conference, and the majority of them are about Apple and Google products. The information was assembled in 2013.\n",
        "Tweets are typically brief and emotional. They do a great job of capturing consumers' reactions to brands in real time. South by Southwest features the most recent technology and enables customers to contrast products from leading tech companies side by side, which can somewhat lessen their biases.\n",
        "The tweets with positive sentiment and the tweets without positive sentiment, which include neutral, negative, and indistinguishable sentiments, are the two categories into which we engineered our target.Only the sentiment of the tweet matters to us because it can increase sales and therefore return on investment."
      ]
    },
    {
      "cell_type": "markdown",
      "metadata": {
        "id": "iUNbvIvnT7ep"
      },
      "source": [
        "### a) Reading the Data"
      ]
    },
    {
      "cell_type": "code",
      "execution_count": null,
      "metadata": {
        "colab": {
          "base_uri": "https://localhost:8080/"
        },
        "id": "auciXZ5sTz6N",
        "outputId": "3009875c-d763-43fa-a58b-86ef81adb953"
      },
      "outputs": [
        {
          "name": "stderr",
          "output_type": "stream",
          "text": [
            "[nltk_data] Downloading package wordnet to /root/nltk_data...\n",
            "[nltk_data]   Package wordnet is already up-to-date!\n",
            "[nltk_data] Downloading package punkt to /root/nltk_data...\n",
            "[nltk_data]   Package punkt is already up-to-date!\n",
            "[nltk_data] Downloading package stopwords to /root/nltk_data...\n",
            "[nltk_data]   Package stopwords is already up-to-date!\n",
            "[nltk_data] Downloading package omw-1.4 to /root/nltk_data...\n",
            "[nltk_data]   Package omw-1.4 is already up-to-date!\n"
          ]
        }
      ],
      "source": [
        "#import necessary libraries\n",
        "import pandas as pd\n",
        "import numpy as np\n",
        "import matplotlib.pyplot as plt\n",
        "import matplotlib as mpl\n",
        "import seaborn as sns\n",
        "\n",
        "import nltk\n",
        "import string\n",
        "import re\n",
        "from nltk import pos_tag\n",
        "from nltk.probability import FreqDist\n",
        "from nltk.stem import WordNetLemmatizer\n",
        "from nltk.corpus import stopwords, wordnet\n",
        "from nltk.tokenize import RegexpTokenizer, word_tokenize\n",
        "nltk.download('wordnet')\n",
        "nltk.download('punkt')\n",
        "nltk.download('stopwords')\n",
        "nltk.download('omw-1.4')\n",
        "from wordcloud import WordCloud\n",
        "\n",
        "\n",
        "from sklearn.model_selection import train_test_split, cross_validate\n",
        "from numpy import array\n",
        "from sklearn.feature_extraction.text import CountVectorizer, TfidfVectorizer\n",
        "from sklearn.preprocessing import StandardScaler\n",
        "from sklearn.metrics import confusion_matrix, classification_report,accuracy_score\n",
        "from sklearn.model_selection import GridSearchCV\n",
        "\n",
        "import warnings\n",
        "warnings.filterwarnings('ignore')\n",
        "\n",
        "\n",
        "pd.set_option('display.max_colwidth', 10000)"
      ]
    },
    {
      "cell_type": "code",
      "execution_count": null,
      "metadata": {
        "id": "XJn2KjW-WMlG"
      },
      "outputs": [],
      "source": [
        "# Loading the Data from the source i.e. csv\n",
        "data = pd.read_csv('/judge_tweet_product_company.csv')"
      ]
    },
    {
      "cell_type": "markdown",
      "metadata": {
        "id": "IYeyKrcX-SJK"
      },
      "source": [
        "\n",
        "\n",
        "### b) Checking the Data"
      ]
    },
    {
      "cell_type": "code",
      "execution_count": null,
      "metadata": {
        "colab": {
          "base_uri": "https://localhost:8080/"
        },
        "id": "VJRjTlM7-SJK",
        "outputId": "ec20ef49-9df5-4524-9881-142a14b2931a"
      },
      "outputs": [
        {
          "name": "stdout",
          "output_type": "stream",
          "text": [
            "<class 'pandas.core.frame.DataFrame'>\n",
            "RangeIndex: 8721 entries, 0 to 8720\n",
            "Data columns (total 3 columns):\n",
            " #   Column                                              Non-Null Count  Dtype \n",
            "---  ------                                              --------------  ----- \n",
            " 0   tweet_text                                          8720 non-null   object\n",
            " 1   emotion_in_tweet_is_directed_at                     3169 non-null   object\n",
            " 2   is_there_an_emotion_directed_at_a_brand_or_product  8721 non-null   object\n",
            "dtypes: object(3)\n",
            "memory usage: 204.5+ KB\n"
          ]
        }
      ],
      "source": [
        "# Determining the no. of records in our dataset\n",
        "data.info()"
      ]
    },
    {
      "cell_type": "code",
      "execution_count": null,
      "metadata": {
        "colab": {
          "base_uri": "https://localhost:8080/",
          "height": 389
        },
        "id": "FoK6ejXU-SJL",
        "outputId": "a39f2f95-82be-4632-8277-badab16e535f"
      },
      "outputs": [
        {
          "data": {
            "text/html": [
              "\n",
              "  <div id=\"df-ee284dd3-214b-4cce-8b74-6cf4fcbca780\">\n",
              "    <div class=\"colab-df-container\">\n",
              "      <div>\n",
              "<style scoped>\n",
              "    .dataframe tbody tr th:only-of-type {\n",
              "        vertical-align: middle;\n",
              "    }\n",
              "\n",
              "    .dataframe tbody tr th {\n",
              "        vertical-align: top;\n",
              "    }\n",
              "\n",
              "    .dataframe thead th {\n",
              "        text-align: right;\n",
              "    }\n",
              "</style>\n",
              "<table border=\"1\" class=\"dataframe\">\n",
              "  <thead>\n",
              "    <tr style=\"text-align: right;\">\n",
              "      <th></th>\n",
              "      <th>tweet_text</th>\n",
              "      <th>emotion_in_tweet_is_directed_at</th>\n",
              "      <th>is_there_an_emotion_directed_at_a_brand_or_product</th>\n",
              "    </tr>\n",
              "  </thead>\n",
              "  <tbody>\n",
              "    <tr>\n",
              "      <th>0</th>\n",
              "      <td>.@wesley83 I have a 3G iPhone. After 3 hrs tweeting at #RISE_Austin, it was dead!  I need to upgrade. Plugin stations at #SXSW.</td>\n",
              "      <td>iPhone</td>\n",
              "      <td>Negative emotion</td>\n",
              "    </tr>\n",
              "    <tr>\n",
              "      <th>1</th>\n",
              "      <td>@jessedee Know about @fludapp ? Awesome iPad/iPhone app that you'll likely appreciate for its design. Also, they're giving free Ts at #SXSW</td>\n",
              "      <td>iPad or iPhone App</td>\n",
              "      <td>Positive emotion</td>\n",
              "    </tr>\n",
              "    <tr>\n",
              "      <th>2</th>\n",
              "      <td>@swonderlin Can not wait for #iPad 2 also. They should sale them down at #SXSW.</td>\n",
              "      <td>iPad</td>\n",
              "      <td>Positive emotion</td>\n",
              "    </tr>\n",
              "    <tr>\n",
              "      <th>3</th>\n",
              "      <td>@sxsw I hope this year's festival isn't as crashy as this year's iPhone app. #sxsw</td>\n",
              "      <td>iPad or iPhone App</td>\n",
              "      <td>Negative emotion</td>\n",
              "    </tr>\n",
              "    <tr>\n",
              "      <th>4</th>\n",
              "      <td>@sxtxstate great stuff on Fri #SXSW: Marissa Mayer (Google), Tim O'Reilly (tech books/conferences) &amp;amp; Matt Mullenweg (Wordpress)</td>\n",
              "      <td>Google</td>\n",
              "      <td>Positive emotion</td>\n",
              "    </tr>\n",
              "  </tbody>\n",
              "</table>\n",
              "</div>\n",
              "      <button class=\"colab-df-convert\" onclick=\"convertToInteractive('df-ee284dd3-214b-4cce-8b74-6cf4fcbca780')\"\n",
              "              title=\"Convert this dataframe to an interactive table.\"\n",
              "              style=\"display:none;\">\n",
              "        \n",
              "  <svg xmlns=\"http://www.w3.org/2000/svg\" height=\"24px\"viewBox=\"0 0 24 24\"\n",
              "       width=\"24px\">\n",
              "    <path d=\"M0 0h24v24H0V0z\" fill=\"none\"/>\n",
              "    <path d=\"M18.56 5.44l.94 2.06.94-2.06 2.06-.94-2.06-.94-.94-2.06-.94 2.06-2.06.94zm-11 1L8.5 8.5l.94-2.06 2.06-.94-2.06-.94L8.5 2.5l-.94 2.06-2.06.94zm10 10l.94 2.06.94-2.06 2.06-.94-2.06-.94-.94-2.06-.94 2.06-2.06.94z\"/><path d=\"M17.41 7.96l-1.37-1.37c-.4-.4-.92-.59-1.43-.59-.52 0-1.04.2-1.43.59L10.3 9.45l-7.72 7.72c-.78.78-.78 2.05 0 2.83L4 21.41c.39.39.9.59 1.41.59.51 0 1.02-.2 1.41-.59l7.78-7.78 2.81-2.81c.8-.78.8-2.07 0-2.86zM5.41 20L4 18.59l7.72-7.72 1.47 1.35L5.41 20z\"/>\n",
              "  </svg>\n",
              "      </button>\n",
              "      \n",
              "  <style>\n",
              "    .colab-df-container {\n",
              "      display:flex;\n",
              "      flex-wrap:wrap;\n",
              "      gap: 12px;\n",
              "    }\n",
              "\n",
              "    .colab-df-convert {\n",
              "      background-color: #E8F0FE;\n",
              "      border: none;\n",
              "      border-radius: 50%;\n",
              "      cursor: pointer;\n",
              "      display: none;\n",
              "      fill: #1967D2;\n",
              "      height: 32px;\n",
              "      padding: 0 0 0 0;\n",
              "      width: 32px;\n",
              "    }\n",
              "\n",
              "    .colab-df-convert:hover {\n",
              "      background-color: #E2EBFA;\n",
              "      box-shadow: 0px 1px 2px rgba(60, 64, 67, 0.3), 0px 1px 3px 1px rgba(60, 64, 67, 0.15);\n",
              "      fill: #174EA6;\n",
              "    }\n",
              "\n",
              "    [theme=dark] .colab-df-convert {\n",
              "      background-color: #3B4455;\n",
              "      fill: #D2E3FC;\n",
              "    }\n",
              "\n",
              "    [theme=dark] .colab-df-convert:hover {\n",
              "      background-color: #434B5C;\n",
              "      box-shadow: 0px 1px 3px 1px rgba(0, 0, 0, 0.15);\n",
              "      filter: drop-shadow(0px 1px 2px rgba(0, 0, 0, 0.3));\n",
              "      fill: #FFFFFF;\n",
              "    }\n",
              "  </style>\n",
              "\n",
              "      <script>\n",
              "        const buttonEl =\n",
              "          document.querySelector('#df-ee284dd3-214b-4cce-8b74-6cf4fcbca780 button.colab-df-convert');\n",
              "        buttonEl.style.display =\n",
              "          google.colab.kernel.accessAllowed ? 'block' : 'none';\n",
              "\n",
              "        async function convertToInteractive(key) {\n",
              "          const element = document.querySelector('#df-ee284dd3-214b-4cce-8b74-6cf4fcbca780');\n",
              "          const dataTable =\n",
              "            await google.colab.kernel.invokeFunction('convertToInteractive',\n",
              "                                                     [key], {});\n",
              "          if (!dataTable) return;\n",
              "\n",
              "          const docLinkHtml = 'Like what you see? Visit the ' +\n",
              "            '<a target=\"_blank\" href=https://colab.research.google.com/notebooks/data_table.ipynb>data table notebook</a>'\n",
              "            + ' to learn more about interactive tables.';\n",
              "          element.innerHTML = '';\n",
              "          dataTable['output_type'] = 'display_data';\n",
              "          await google.colab.output.renderOutput(dataTable, element);\n",
              "          const docLink = document.createElement('div');\n",
              "          docLink.innerHTML = docLinkHtml;\n",
              "          element.appendChild(docLink);\n",
              "        }\n",
              "      </script>\n",
              "    </div>\n",
              "  </div>\n",
              "  "
            ],
            "text/plain": [
              "                                                                                                                                    tweet_text  \\\n",
              "0              .@wesley83 I have a 3G iPhone. After 3 hrs tweeting at #RISE_Austin, it was dead!  I need to upgrade. Plugin stations at #SXSW.   \n",
              "1  @jessedee Know about @fludapp ? Awesome iPad/iPhone app that you'll likely appreciate for its design. Also, they're giving free Ts at #SXSW   \n",
              "2                                                              @swonderlin Can not wait for #iPad 2 also. They should sale them down at #SXSW.   \n",
              "3                                                           @sxsw I hope this year's festival isn't as crashy as this year's iPhone app. #sxsw   \n",
              "4          @sxtxstate great stuff on Fri #SXSW: Marissa Mayer (Google), Tim O'Reilly (tech books/conferences) &amp; Matt Mullenweg (Wordpress)   \n",
              "\n",
              "  emotion_in_tweet_is_directed_at  \\\n",
              "0                          iPhone   \n",
              "1              iPad or iPhone App   \n",
              "2                            iPad   \n",
              "3              iPad or iPhone App   \n",
              "4                          Google   \n",
              "\n",
              "  is_there_an_emotion_directed_at_a_brand_or_product  \n",
              "0                                   Negative emotion  \n",
              "1                                   Positive emotion  \n",
              "2                                   Positive emotion  \n",
              "3                                   Negative emotion  \n",
              "4                                   Positive emotion  "
            ]
          },
          "execution_count": 164,
          "metadata": {},
          "output_type": "execute_result"
        }
      ],
      "source": [
        "# Previewing the top of our dataset\n",
        "data.head()"
      ]
    },
    {
      "cell_type": "code",
      "execution_count": null,
      "metadata": {
        "colab": {
          "base_uri": "https://localhost:8080/",
          "height": 374
        },
        "id": "kKwcaZXy-SJL",
        "outputId": "1c5bf538-2d84-452b-94d4-14d0d42c03d5"
      },
      "outputs": [
        {
          "data": {
            "text/html": [
              "\n",
              "  <div id=\"df-c0069102-8b30-4c7d-86e8-2f28fdaf18e3\">\n",
              "    <div class=\"colab-df-container\">\n",
              "      <div>\n",
              "<style scoped>\n",
              "    .dataframe tbody tr th:only-of-type {\n",
              "        vertical-align: middle;\n",
              "    }\n",
              "\n",
              "    .dataframe tbody tr th {\n",
              "        vertical-align: top;\n",
              "    }\n",
              "\n",
              "    .dataframe thead th {\n",
              "        text-align: right;\n",
              "    }\n",
              "</style>\n",
              "<table border=\"1\" class=\"dataframe\">\n",
              "  <thead>\n",
              "    <tr style=\"text-align: right;\">\n",
              "      <th></th>\n",
              "      <th>tweet_text</th>\n",
              "      <th>emotion_in_tweet_is_directed_at</th>\n",
              "      <th>is_there_an_emotion_directed_at_a_brand_or_product</th>\n",
              "    </tr>\n",
              "  </thead>\n",
              "  <tbody>\n",
              "    <tr>\n",
              "      <th>8716</th>\n",
              "      <td>Ipad everywhere. #SXSW {link}</td>\n",
              "      <td>iPad</td>\n",
              "      <td>Positive emotion</td>\n",
              "    </tr>\n",
              "    <tr>\n",
              "      <th>8717</th>\n",
              "      <td>Wave, buzz... RT @mention We interrupt your regularly scheduled #sxsw geek programming with big news {link}  #google #circles</td>\n",
              "      <td>NaN</td>\n",
              "      <td>No emotion toward brand or product</td>\n",
              "    </tr>\n",
              "    <tr>\n",
              "      <th>8718</th>\n",
              "      <td>Google's Zeiger, a physician never reported potential AE. Yet FDA relies on physicians. &amp;quot;We're operating w/out data.&amp;quot; #sxsw #health2dev</td>\n",
              "      <td>NaN</td>\n",
              "      <td>No emotion toward brand or product</td>\n",
              "    </tr>\n",
              "    <tr>\n",
              "      <th>8719</th>\n",
              "      <td>Some Verizon iPhone customers complained their time fell back an hour this weekend.  Of course they were the New Yorkers who attended #SXSW.</td>\n",
              "      <td>NaN</td>\n",
              "      <td>No emotion toward brand or product</td>\n",
              "    </tr>\n",
              "    <tr>\n",
              "      <th>8720</th>\n",
              "      <td>�ϡ�����_��ʋ�΋�ҋ�������⋁_��������_���RT @mention Google Tests ���Check-in Offers�۝ At #SXSW {link}</td>\n",
              "      <td>NaN</td>\n",
              "      <td>No emotion toward brand or product</td>\n",
              "    </tr>\n",
              "  </tbody>\n",
              "</table>\n",
              "</div>\n",
              "      <button class=\"colab-df-convert\" onclick=\"convertToInteractive('df-c0069102-8b30-4c7d-86e8-2f28fdaf18e3')\"\n",
              "              title=\"Convert this dataframe to an interactive table.\"\n",
              "              style=\"display:none;\">\n",
              "        \n",
              "  <svg xmlns=\"http://www.w3.org/2000/svg\" height=\"24px\"viewBox=\"0 0 24 24\"\n",
              "       width=\"24px\">\n",
              "    <path d=\"M0 0h24v24H0V0z\" fill=\"none\"/>\n",
              "    <path d=\"M18.56 5.44l.94 2.06.94-2.06 2.06-.94-2.06-.94-.94-2.06-.94 2.06-2.06.94zm-11 1L8.5 8.5l.94-2.06 2.06-.94-2.06-.94L8.5 2.5l-.94 2.06-2.06.94zm10 10l.94 2.06.94-2.06 2.06-.94-2.06-.94-.94-2.06-.94 2.06-2.06.94z\"/><path d=\"M17.41 7.96l-1.37-1.37c-.4-.4-.92-.59-1.43-.59-.52 0-1.04.2-1.43.59L10.3 9.45l-7.72 7.72c-.78.78-.78 2.05 0 2.83L4 21.41c.39.39.9.59 1.41.59.51 0 1.02-.2 1.41-.59l7.78-7.78 2.81-2.81c.8-.78.8-2.07 0-2.86zM5.41 20L4 18.59l7.72-7.72 1.47 1.35L5.41 20z\"/>\n",
              "  </svg>\n",
              "      </button>\n",
              "      \n",
              "  <style>\n",
              "    .colab-df-container {\n",
              "      display:flex;\n",
              "      flex-wrap:wrap;\n",
              "      gap: 12px;\n",
              "    }\n",
              "\n",
              "    .colab-df-convert {\n",
              "      background-color: #E8F0FE;\n",
              "      border: none;\n",
              "      border-radius: 50%;\n",
              "      cursor: pointer;\n",
              "      display: none;\n",
              "      fill: #1967D2;\n",
              "      height: 32px;\n",
              "      padding: 0 0 0 0;\n",
              "      width: 32px;\n",
              "    }\n",
              "\n",
              "    .colab-df-convert:hover {\n",
              "      background-color: #E2EBFA;\n",
              "      box-shadow: 0px 1px 2px rgba(60, 64, 67, 0.3), 0px 1px 3px 1px rgba(60, 64, 67, 0.15);\n",
              "      fill: #174EA6;\n",
              "    }\n",
              "\n",
              "    [theme=dark] .colab-df-convert {\n",
              "      background-color: #3B4455;\n",
              "      fill: #D2E3FC;\n",
              "    }\n",
              "\n",
              "    [theme=dark] .colab-df-convert:hover {\n",
              "      background-color: #434B5C;\n",
              "      box-shadow: 0px 1px 3px 1px rgba(0, 0, 0, 0.15);\n",
              "      filter: drop-shadow(0px 1px 2px rgba(0, 0, 0, 0.3));\n",
              "      fill: #FFFFFF;\n",
              "    }\n",
              "  </style>\n",
              "\n",
              "      <script>\n",
              "        const buttonEl =\n",
              "          document.querySelector('#df-c0069102-8b30-4c7d-86e8-2f28fdaf18e3 button.colab-df-convert');\n",
              "        buttonEl.style.display =\n",
              "          google.colab.kernel.accessAllowed ? 'block' : 'none';\n",
              "\n",
              "        async function convertToInteractive(key) {\n",
              "          const element = document.querySelector('#df-c0069102-8b30-4c7d-86e8-2f28fdaf18e3');\n",
              "          const dataTable =\n",
              "            await google.colab.kernel.invokeFunction('convertToInteractive',\n",
              "                                                     [key], {});\n",
              "          if (!dataTable) return;\n",
              "\n",
              "          const docLinkHtml = 'Like what you see? Visit the ' +\n",
              "            '<a target=\"_blank\" href=https://colab.research.google.com/notebooks/data_table.ipynb>data table notebook</a>'\n",
              "            + ' to learn more about interactive tables.';\n",
              "          element.innerHTML = '';\n",
              "          dataTable['output_type'] = 'display_data';\n",
              "          await google.colab.output.renderOutput(dataTable, element);\n",
              "          const docLink = document.createElement('div');\n",
              "          docLink.innerHTML = docLinkHtml;\n",
              "          element.appendChild(docLink);\n",
              "        }\n",
              "      </script>\n",
              "    </div>\n",
              "  </div>\n",
              "  "
            ],
            "text/plain": [
              "                                                                                                                                             tweet_text  \\\n",
              "8716                                                                                                                      Ipad everywhere. #SXSW {link}   \n",
              "8717                      Wave, buzz... RT @mention We interrupt your regularly scheduled #sxsw geek programming with big news {link}  #google #circles   \n",
              "8718  Google's Zeiger, a physician never reported potential AE. Yet FDA relies on physicians. &quot;We're operating w/out data.&quot; #sxsw #health2dev   \n",
              "8719       Some Verizon iPhone customers complained their time fell back an hour this weekend.  Of course they were the New Yorkers who attended #SXSW.   \n",
              "8720                                                  �ϡ�����_��ʋ�΋�ҋ�������⋁_��������_���RT @mention Google Tests ���Check-in Offers�۝ At #SXSW {link}   \n",
              "\n",
              "     emotion_in_tweet_is_directed_at  \\\n",
              "8716                            iPad   \n",
              "8717                             NaN   \n",
              "8718                             NaN   \n",
              "8719                             NaN   \n",
              "8720                             NaN   \n",
              "\n",
              "     is_there_an_emotion_directed_at_a_brand_or_product  \n",
              "8716                                   Positive emotion  \n",
              "8717                 No emotion toward brand or product  \n",
              "8718                 No emotion toward brand or product  \n",
              "8719                 No emotion toward brand or product  \n",
              "8720                 No emotion toward brand or product  "
            ]
          },
          "execution_count": 165,
          "metadata": {},
          "output_type": "execute_result"
        }
      ],
      "source": [
        "# Previewing the bottom of our dataset\n",
        "data.tail()"
      ]
    },
    {
      "cell_type": "code",
      "execution_count": null,
      "metadata": {
        "colab": {
          "base_uri": "https://localhost:8080/"
        },
        "id": "Br-BKxUWfMKs",
        "outputId": "b83882ca-4911-47b1-a978-98d6c29523ac"
      },
      "outputs": [
        {
          "data": {
            "text/plain": [
              "(8721, 3)"
            ]
          },
          "execution_count": 166,
          "metadata": {},
          "output_type": "execute_result"
        }
      ],
      "source": [
        "#check the shape of the dataframe\n",
        "data.shape"
      ]
    },
    {
      "cell_type": "markdown",
      "metadata": {
        "id": "o9VTsuci-Bq1"
      },
      "source": []
    },
    {
      "cell_type": "markdown",
      "metadata": {
        "id": "i0m-Nvag6tEi"
      },
      "source": [
        "### c) Tidying the Dataset"
      ]
    },
    {
      "cell_type": "markdown",
      "metadata": {
        "id": "A8eU5EUxfcRX"
      },
      "source": [
        "To make it easier to read and analyse the data, we rename the columns."
      ]
    },
    {
      "cell_type": "code",
      "execution_count": null,
      "metadata": {
        "colab": {
          "base_uri": "https://localhost:8080/",
          "height": 319
        },
        "id": "kDwMtP8SfVE6",
        "outputId": "0ad0ea60-5aee-4d98-f769-af18632a7607"
      },
      "outputs": [
        {
          "data": {
            "text/html": [
              "\n",
              "  <div id=\"df-d76f43f3-c849-4d37-b590-dc49c8dd0b77\">\n",
              "    <div class=\"colab-df-container\">\n",
              "      <div>\n",
              "<style scoped>\n",
              "    .dataframe tbody tr th:only-of-type {\n",
              "        vertical-align: middle;\n",
              "    }\n",
              "\n",
              "    .dataframe tbody tr th {\n",
              "        vertical-align: top;\n",
              "    }\n",
              "\n",
              "    .dataframe thead th {\n",
              "        text-align: right;\n",
              "    }\n",
              "</style>\n",
              "<table border=\"1\" class=\"dataframe\">\n",
              "  <thead>\n",
              "    <tr style=\"text-align: right;\">\n",
              "      <th></th>\n",
              "      <th>Tweet</th>\n",
              "      <th>Product</th>\n",
              "      <th>Sentiment</th>\n",
              "    </tr>\n",
              "  </thead>\n",
              "  <tbody>\n",
              "    <tr>\n",
              "      <th>0</th>\n",
              "      <td>.@wesley83 I have a 3G iPhone. After 3 hrs tweeting at #RISE_Austin, it was dead!  I need to upgrade. Plugin stations at #SXSW.</td>\n",
              "      <td>iPhone</td>\n",
              "      <td>Negative emotion</td>\n",
              "    </tr>\n",
              "    <tr>\n",
              "      <th>1</th>\n",
              "      <td>@jessedee Know about @fludapp ? Awesome iPad/iPhone app that you'll likely appreciate for its design. Also, they're giving free Ts at #SXSW</td>\n",
              "      <td>iPad or iPhone App</td>\n",
              "      <td>Positive emotion</td>\n",
              "    </tr>\n",
              "    <tr>\n",
              "      <th>2</th>\n",
              "      <td>@swonderlin Can not wait for #iPad 2 also. They should sale them down at #SXSW.</td>\n",
              "      <td>iPad</td>\n",
              "      <td>Positive emotion</td>\n",
              "    </tr>\n",
              "    <tr>\n",
              "      <th>3</th>\n",
              "      <td>@sxsw I hope this year's festival isn't as crashy as this year's iPhone app. #sxsw</td>\n",
              "      <td>iPad or iPhone App</td>\n",
              "      <td>Negative emotion</td>\n",
              "    </tr>\n",
              "    <tr>\n",
              "      <th>4</th>\n",
              "      <td>@sxtxstate great stuff on Fri #SXSW: Marissa Mayer (Google), Tim O'Reilly (tech books/conferences) &amp;amp; Matt Mullenweg (Wordpress)</td>\n",
              "      <td>Google</td>\n",
              "      <td>Positive emotion</td>\n",
              "    </tr>\n",
              "  </tbody>\n",
              "</table>\n",
              "</div>\n",
              "      <button class=\"colab-df-convert\" onclick=\"convertToInteractive('df-d76f43f3-c849-4d37-b590-dc49c8dd0b77')\"\n",
              "              title=\"Convert this dataframe to an interactive table.\"\n",
              "              style=\"display:none;\">\n",
              "        \n",
              "  <svg xmlns=\"http://www.w3.org/2000/svg\" height=\"24px\"viewBox=\"0 0 24 24\"\n",
              "       width=\"24px\">\n",
              "    <path d=\"M0 0h24v24H0V0z\" fill=\"none\"/>\n",
              "    <path d=\"M18.56 5.44l.94 2.06.94-2.06 2.06-.94-2.06-.94-.94-2.06-.94 2.06-2.06.94zm-11 1L8.5 8.5l.94-2.06 2.06-.94-2.06-.94L8.5 2.5l-.94 2.06-2.06.94zm10 10l.94 2.06.94-2.06 2.06-.94-2.06-.94-.94-2.06-.94 2.06-2.06.94z\"/><path d=\"M17.41 7.96l-1.37-1.37c-.4-.4-.92-.59-1.43-.59-.52 0-1.04.2-1.43.59L10.3 9.45l-7.72 7.72c-.78.78-.78 2.05 0 2.83L4 21.41c.39.39.9.59 1.41.59.51 0 1.02-.2 1.41-.59l7.78-7.78 2.81-2.81c.8-.78.8-2.07 0-2.86zM5.41 20L4 18.59l7.72-7.72 1.47 1.35L5.41 20z\"/>\n",
              "  </svg>\n",
              "      </button>\n",
              "      \n",
              "  <style>\n",
              "    .colab-df-container {\n",
              "      display:flex;\n",
              "      flex-wrap:wrap;\n",
              "      gap: 12px;\n",
              "    }\n",
              "\n",
              "    .colab-df-convert {\n",
              "      background-color: #E8F0FE;\n",
              "      border: none;\n",
              "      border-radius: 50%;\n",
              "      cursor: pointer;\n",
              "      display: none;\n",
              "      fill: #1967D2;\n",
              "      height: 32px;\n",
              "      padding: 0 0 0 0;\n",
              "      width: 32px;\n",
              "    }\n",
              "\n",
              "    .colab-df-convert:hover {\n",
              "      background-color: #E2EBFA;\n",
              "      box-shadow: 0px 1px 2px rgba(60, 64, 67, 0.3), 0px 1px 3px 1px rgba(60, 64, 67, 0.15);\n",
              "      fill: #174EA6;\n",
              "    }\n",
              "\n",
              "    [theme=dark] .colab-df-convert {\n",
              "      background-color: #3B4455;\n",
              "      fill: #D2E3FC;\n",
              "    }\n",
              "\n",
              "    [theme=dark] .colab-df-convert:hover {\n",
              "      background-color: #434B5C;\n",
              "      box-shadow: 0px 1px 3px 1px rgba(0, 0, 0, 0.15);\n",
              "      filter: drop-shadow(0px 1px 2px rgba(0, 0, 0, 0.3));\n",
              "      fill: #FFFFFF;\n",
              "    }\n",
              "  </style>\n",
              "\n",
              "      <script>\n",
              "        const buttonEl =\n",
              "          document.querySelector('#df-d76f43f3-c849-4d37-b590-dc49c8dd0b77 button.colab-df-convert');\n",
              "        buttonEl.style.display =\n",
              "          google.colab.kernel.accessAllowed ? 'block' : 'none';\n",
              "\n",
              "        async function convertToInteractive(key) {\n",
              "          const element = document.querySelector('#df-d76f43f3-c849-4d37-b590-dc49c8dd0b77');\n",
              "          const dataTable =\n",
              "            await google.colab.kernel.invokeFunction('convertToInteractive',\n",
              "                                                     [key], {});\n",
              "          if (!dataTable) return;\n",
              "\n",
              "          const docLinkHtml = 'Like what you see? Visit the ' +\n",
              "            '<a target=\"_blank\" href=https://colab.research.google.com/notebooks/data_table.ipynb>data table notebook</a>'\n",
              "            + ' to learn more about interactive tables.';\n",
              "          element.innerHTML = '';\n",
              "          dataTable['output_type'] = 'display_data';\n",
              "          await google.colab.output.renderOutput(dataTable, element);\n",
              "          const docLink = document.createElement('div');\n",
              "          docLink.innerHTML = docLinkHtml;\n",
              "          element.appendChild(docLink);\n",
              "        }\n",
              "      </script>\n",
              "    </div>\n",
              "  </div>\n",
              "  "
            ],
            "text/plain": [
              "                                                                                                                                         Tweet  \\\n",
              "0              .@wesley83 I have a 3G iPhone. After 3 hrs tweeting at #RISE_Austin, it was dead!  I need to upgrade. Plugin stations at #SXSW.   \n",
              "1  @jessedee Know about @fludapp ? Awesome iPad/iPhone app that you'll likely appreciate for its design. Also, they're giving free Ts at #SXSW   \n",
              "2                                                              @swonderlin Can not wait for #iPad 2 also. They should sale them down at #SXSW.   \n",
              "3                                                           @sxsw I hope this year's festival isn't as crashy as this year's iPhone app. #sxsw   \n",
              "4          @sxtxstate great stuff on Fri #SXSW: Marissa Mayer (Google), Tim O'Reilly (tech books/conferences) &amp; Matt Mullenweg (Wordpress)   \n",
              "\n",
              "              Product         Sentiment  \n",
              "0              iPhone  Negative emotion  \n",
              "1  iPad or iPhone App  Positive emotion  \n",
              "2                iPad  Positive emotion  \n",
              "3  iPad or iPhone App  Negative emotion  \n",
              "4              Google  Positive emotion  "
            ]
          },
          "execution_count": 167,
          "metadata": {},
          "output_type": "execute_result"
        }
      ],
      "source": [
        "#rename columns for readability\n",
        "data = data.rename(columns = {'tweet_text': 'Tweet', \n",
        "                         'emotion_in_tweet_is_directed_at': 'Product', \n",
        "                         'is_there_an_emotion_directed_at_a_brand_or_product': 'Sentiment'})\n",
        "data.head()"
      ]
    },
    {
      "cell_type": "markdown",
      "metadata": {
        "id": "OqhuxS1bf4Wc"
      },
      "source": [
        "Before doing our analysis, we check for missing data or duplicated rows "
      ]
    },
    {
      "cell_type": "code",
      "execution_count": null,
      "metadata": {
        "colab": {
          "base_uri": "https://localhost:8080/"
        },
        "id": "xWFU12vkfroM",
        "outputId": "bb6d09d9-2a97-4415-9449-bb7f51a08372"
      },
      "outputs": [
        {
          "name": "stdout",
          "output_type": "stream",
          "text": [
            "<class 'pandas.core.frame.DataFrame'>\n",
            "RangeIndex: 8721 entries, 0 to 8720\n",
            "Data columns (total 3 columns):\n",
            " #   Column     Non-Null Count  Dtype \n",
            "---  ------     --------------  ----- \n",
            " 0   Tweet      8720 non-null   object\n",
            " 1   Product    3169 non-null   object\n",
            " 2   Sentiment  8721 non-null   object\n",
            "dtypes: object(3)\n",
            "memory usage: 204.5+ KB\n",
            "None\n",
            "--------------------\n",
            "Total duplicated rows\n",
            "22\n",
            "--------------------\n",
            "Total null values\n",
            "Tweet           1\n",
            "Product      5552\n",
            "Sentiment       0\n",
            "dtype: int64\n"
          ]
        }
      ],
      "source": [
        "#looking at data, duplicates and null values\n",
        "print(data.info())\n",
        "print((\"-\"*20))\n",
        "\n",
        "# Check for duplicated rows\n",
        "print('Total duplicated rows')\n",
        "print(data.duplicated().sum())\n",
        "print((\"-\"*20))\n",
        "\n",
        "# Check for null values\n",
        "print('Total null values')\n",
        "print(data.isna().sum())"
      ]
    },
    {
      "cell_type": "markdown",
      "metadata": {
        "id": "v3cT3e4Jmq6N"
      },
      "source": [
        "Checking the contents in the product and sentiment columns "
      ]
    },
    {
      "cell_type": "code",
      "execution_count": null,
      "metadata": {
        "colab": {
          "base_uri": "https://localhost:8080/"
        },
        "id": "Vv5FBD-PizLC",
        "outputId": "32f9353b-9d78-498b-dad1-d662182d0cec"
      },
      "outputs": [
        {
          "name": "stdout",
          "output_type": "stream",
          "text": [
            "iPad                               910\n",
            "Apple                              640\n",
            "iPad or iPhone App                 451\n",
            "Google                             412\n",
            "iPhone                             288\n",
            "Other Google product or service    282\n",
            "Android App                         78\n",
            "Android                             74\n",
            "Other Apple product or service      34\n",
            "Name: Product, dtype: int64\n",
            "--------------------\n",
            "No emotion toward brand or product    5156\n",
            "Positive emotion                      2869\n",
            "Negative emotion                       545\n",
            "I can't tell                           151\n",
            "Name: Sentiment, dtype: int64\n"
          ]
        }
      ],
      "source": [
        "# Print the value count of product and sentiment column\n",
        "print(data['Product'].value_counts())\n",
        "print((\"-\"*20))\n",
        "print(data['Sentiment'].value_counts())"
      ]
    },
    {
      "cell_type": "code",
      "execution_count": null,
      "metadata": {
        "id": "O50NW7IaiW9z"
      },
      "outputs": [],
      "source": [
        "#Simplify sentiment labels for visualizations\n",
        "dict_sent = {'No emotion toward brand or product':\"No emotion\", \n",
        "             'Positive emotion':'Positive emotion',\n",
        "             'Negative emotion':'Negative emotion',\n",
        "             \"I can't tell\": \"I can't tell\"}\n",
        "data['Sentiment'] = data['Sentiment'].map(dict_sent)"
      ]
    },
    {
      "cell_type": "markdown",
      "metadata": {
        "id": "lSPsI1qIpSAm"
      },
      "source": [
        "**Handling duplicates**"
      ]
    },
    {
      "cell_type": "code",
      "execution_count": null,
      "metadata": {
        "colab": {
          "base_uri": "https://localhost:8080/",
          "height": 624
        },
        "id": "Z6aH4BG5zDos",
        "outputId": "086dc3e7-16a1-4377-d2b6-3fcca4d4cd9c"
      },
      "outputs": [
        {
          "data": {
            "text/html": [
              "\n",
              "  <div id=\"df-a62d3b49-6352-479b-b0b4-6255c195ff6f\">\n",
              "    <div class=\"colab-df-container\">\n",
              "      <div>\n",
              "<style scoped>\n",
              "    .dataframe tbody tr th:only-of-type {\n",
              "        vertical-align: middle;\n",
              "    }\n",
              "\n",
              "    .dataframe tbody tr th {\n",
              "        vertical-align: top;\n",
              "    }\n",
              "\n",
              "    .dataframe thead th {\n",
              "        text-align: right;\n",
              "    }\n",
              "</style>\n",
              "<table border=\"1\" class=\"dataframe\">\n",
              "  <thead>\n",
              "    <tr style=\"text-align: right;\">\n",
              "      <th></th>\n",
              "      <th>Tweet</th>\n",
              "      <th>Product</th>\n",
              "      <th>Sentiment</th>\n",
              "    </tr>\n",
              "  </thead>\n",
              "  <tbody>\n",
              "    <tr>\n",
              "      <th>0</th>\n",
              "      <td>.@wesley83 I have a 3G iPhone. After 3 hrs tweeting at #RISE_Austin, it was dead!  I need to upgrade. Plugin stations at #SXSW.</td>\n",
              "      <td>iPhone</td>\n",
              "      <td>Negative emotion</td>\n",
              "    </tr>\n",
              "    <tr>\n",
              "      <th>1</th>\n",
              "      <td>@jessedee Know about @fludapp ? Awesome iPad/iPhone app that you'll likely appreciate for its design. Also, they're giving free Ts at #SXSW</td>\n",
              "      <td>iPad or iPhone App</td>\n",
              "      <td>Positive emotion</td>\n",
              "    </tr>\n",
              "    <tr>\n",
              "      <th>2</th>\n",
              "      <td>@swonderlin Can not wait for #iPad 2 also. They should sale them down at #SXSW.</td>\n",
              "      <td>iPad</td>\n",
              "      <td>Positive emotion</td>\n",
              "    </tr>\n",
              "    <tr>\n",
              "      <th>3</th>\n",
              "      <td>@sxsw I hope this year's festival isn't as crashy as this year's iPhone app. #sxsw</td>\n",
              "      <td>iPad or iPhone App</td>\n",
              "      <td>Negative emotion</td>\n",
              "    </tr>\n",
              "    <tr>\n",
              "      <th>4</th>\n",
              "      <td>@sxtxstate great stuff on Fri #SXSW: Marissa Mayer (Google), Tim O'Reilly (tech books/conferences) &amp;amp; Matt Mullenweg (Wordpress)</td>\n",
              "      <td>Google</td>\n",
              "      <td>Positive emotion</td>\n",
              "    </tr>\n",
              "    <tr>\n",
              "      <th>...</th>\n",
              "      <td>...</td>\n",
              "      <td>...</td>\n",
              "      <td>...</td>\n",
              "    </tr>\n",
              "    <tr>\n",
              "      <th>8716</th>\n",
              "      <td>Ipad everywhere. #SXSW {link}</td>\n",
              "      <td>iPad</td>\n",
              "      <td>Positive emotion</td>\n",
              "    </tr>\n",
              "    <tr>\n",
              "      <th>8717</th>\n",
              "      <td>Wave, buzz... RT @mention We interrupt your regularly scheduled #sxsw geek programming with big news {link}  #google #circles</td>\n",
              "      <td>NaN</td>\n",
              "      <td>No emotion</td>\n",
              "    </tr>\n",
              "    <tr>\n",
              "      <th>8718</th>\n",
              "      <td>Google's Zeiger, a physician never reported potential AE. Yet FDA relies on physicians. &amp;quot;We're operating w/out data.&amp;quot; #sxsw #health2dev</td>\n",
              "      <td>NaN</td>\n",
              "      <td>No emotion</td>\n",
              "    </tr>\n",
              "    <tr>\n",
              "      <th>8719</th>\n",
              "      <td>Some Verizon iPhone customers complained their time fell back an hour this weekend.  Of course they were the New Yorkers who attended #SXSW.</td>\n",
              "      <td>NaN</td>\n",
              "      <td>No emotion</td>\n",
              "    </tr>\n",
              "    <tr>\n",
              "      <th>8720</th>\n",
              "      <td>�ϡ�����_��ʋ�΋�ҋ�������⋁_��������_���RT @mention Google Tests ���Check-in Offers�۝ At #SXSW {link}</td>\n",
              "      <td>NaN</td>\n",
              "      <td>No emotion</td>\n",
              "    </tr>\n",
              "  </tbody>\n",
              "</table>\n",
              "<p>8721 rows × 3 columns</p>\n",
              "</div>\n",
              "      <button class=\"colab-df-convert\" onclick=\"convertToInteractive('df-a62d3b49-6352-479b-b0b4-6255c195ff6f')\"\n",
              "              title=\"Convert this dataframe to an interactive table.\"\n",
              "              style=\"display:none;\">\n",
              "        \n",
              "  <svg xmlns=\"http://www.w3.org/2000/svg\" height=\"24px\"viewBox=\"0 0 24 24\"\n",
              "       width=\"24px\">\n",
              "    <path d=\"M0 0h24v24H0V0z\" fill=\"none\"/>\n",
              "    <path d=\"M18.56 5.44l.94 2.06.94-2.06 2.06-.94-2.06-.94-.94-2.06-.94 2.06-2.06.94zm-11 1L8.5 8.5l.94-2.06 2.06-.94-2.06-.94L8.5 2.5l-.94 2.06-2.06.94zm10 10l.94 2.06.94-2.06 2.06-.94-2.06-.94-.94-2.06-.94 2.06-2.06.94z\"/><path d=\"M17.41 7.96l-1.37-1.37c-.4-.4-.92-.59-1.43-.59-.52 0-1.04.2-1.43.59L10.3 9.45l-7.72 7.72c-.78.78-.78 2.05 0 2.83L4 21.41c.39.39.9.59 1.41.59.51 0 1.02-.2 1.41-.59l7.78-7.78 2.81-2.81c.8-.78.8-2.07 0-2.86zM5.41 20L4 18.59l7.72-7.72 1.47 1.35L5.41 20z\"/>\n",
              "  </svg>\n",
              "      </button>\n",
              "      \n",
              "  <style>\n",
              "    .colab-df-container {\n",
              "      display:flex;\n",
              "      flex-wrap:wrap;\n",
              "      gap: 12px;\n",
              "    }\n",
              "\n",
              "    .colab-df-convert {\n",
              "      background-color: #E8F0FE;\n",
              "      border: none;\n",
              "      border-radius: 50%;\n",
              "      cursor: pointer;\n",
              "      display: none;\n",
              "      fill: #1967D2;\n",
              "      height: 32px;\n",
              "      padding: 0 0 0 0;\n",
              "      width: 32px;\n",
              "    }\n",
              "\n",
              "    .colab-df-convert:hover {\n",
              "      background-color: #E2EBFA;\n",
              "      box-shadow: 0px 1px 2px rgba(60, 64, 67, 0.3), 0px 1px 3px 1px rgba(60, 64, 67, 0.15);\n",
              "      fill: #174EA6;\n",
              "    }\n",
              "\n",
              "    [theme=dark] .colab-df-convert {\n",
              "      background-color: #3B4455;\n",
              "      fill: #D2E3FC;\n",
              "    }\n",
              "\n",
              "    [theme=dark] .colab-df-convert:hover {\n",
              "      background-color: #434B5C;\n",
              "      box-shadow: 0px 1px 3px 1px rgba(0, 0, 0, 0.15);\n",
              "      filter: drop-shadow(0px 1px 2px rgba(0, 0, 0, 0.3));\n",
              "      fill: #FFFFFF;\n",
              "    }\n",
              "  </style>\n",
              "\n",
              "      <script>\n",
              "        const buttonEl =\n",
              "          document.querySelector('#df-a62d3b49-6352-479b-b0b4-6255c195ff6f button.colab-df-convert');\n",
              "        buttonEl.style.display =\n",
              "          google.colab.kernel.accessAllowed ? 'block' : 'none';\n",
              "\n",
              "        async function convertToInteractive(key) {\n",
              "          const element = document.querySelector('#df-a62d3b49-6352-479b-b0b4-6255c195ff6f');\n",
              "          const dataTable =\n",
              "            await google.colab.kernel.invokeFunction('convertToInteractive',\n",
              "                                                     [key], {});\n",
              "          if (!dataTable) return;\n",
              "\n",
              "          const docLinkHtml = 'Like what you see? Visit the ' +\n",
              "            '<a target=\"_blank\" href=https://colab.research.google.com/notebooks/data_table.ipynb>data table notebook</a>'\n",
              "            + ' to learn more about interactive tables.';\n",
              "          element.innerHTML = '';\n",
              "          dataTable['output_type'] = 'display_data';\n",
              "          await google.colab.output.renderOutput(dataTable, element);\n",
              "          const docLink = document.createElement('div');\n",
              "          docLink.innerHTML = docLinkHtml;\n",
              "          element.appendChild(docLink);\n",
              "        }\n",
              "      </script>\n",
              "    </div>\n",
              "  </div>\n",
              "  "
            ],
            "text/plain": [
              "                                                                                                                                                  Tweet  \\\n",
              "0                       .@wesley83 I have a 3G iPhone. After 3 hrs tweeting at #RISE_Austin, it was dead!  I need to upgrade. Plugin stations at #SXSW.   \n",
              "1           @jessedee Know about @fludapp ? Awesome iPad/iPhone app that you'll likely appreciate for its design. Also, they're giving free Ts at #SXSW   \n",
              "2                                                                       @swonderlin Can not wait for #iPad 2 also. They should sale them down at #SXSW.   \n",
              "3                                                                    @sxsw I hope this year's festival isn't as crashy as this year's iPhone app. #sxsw   \n",
              "4                   @sxtxstate great stuff on Fri #SXSW: Marissa Mayer (Google), Tim O'Reilly (tech books/conferences) &amp; Matt Mullenweg (Wordpress)   \n",
              "...                                                                                                                                                 ...   \n",
              "8716                                                                                                                      Ipad everywhere. #SXSW {link}   \n",
              "8717                      Wave, buzz... RT @mention We interrupt your regularly scheduled #sxsw geek programming with big news {link}  #google #circles   \n",
              "8718  Google's Zeiger, a physician never reported potential AE. Yet FDA relies on physicians. &quot;We're operating w/out data.&quot; #sxsw #health2dev   \n",
              "8719       Some Verizon iPhone customers complained their time fell back an hour this weekend.  Of course they were the New Yorkers who attended #SXSW.   \n",
              "8720                                                  �ϡ�����_��ʋ�΋�ҋ�������⋁_��������_���RT @mention Google Tests ���Check-in Offers�۝ At #SXSW {link}   \n",
              "\n",
              "                 Product         Sentiment  \n",
              "0                 iPhone  Negative emotion  \n",
              "1     iPad or iPhone App  Positive emotion  \n",
              "2                   iPad  Positive emotion  \n",
              "3     iPad or iPhone App  Negative emotion  \n",
              "4                 Google  Positive emotion  \n",
              "...                  ...               ...  \n",
              "8716                iPad  Positive emotion  \n",
              "8717                 NaN        No emotion  \n",
              "8718                 NaN        No emotion  \n",
              "8719                 NaN        No emotion  \n",
              "8720                 NaN        No emotion  \n",
              "\n",
              "[8721 rows x 3 columns]"
            ]
          },
          "execution_count": 171,
          "metadata": {},
          "output_type": "execute_result"
        }
      ],
      "source": [
        "#drop any NaN in the Tweet column\n",
        "data['Tweet'].dropna(inplace=True)\n",
        "data"
      ]
    },
    {
      "cell_type": "code",
      "execution_count": null,
      "metadata": {
        "colab": {
          "base_uri": "https://localhost:8080/",
          "height": 624
        },
        "id": "bgSZrgoGpYHq",
        "outputId": "328149c3-b45d-401e-beb7-38bb6041557a"
      },
      "outputs": [
        {
          "data": {
            "text/html": [
              "\n",
              "  <div id=\"df-84d2626b-39bc-4c5a-85c3-6fefc0ef34db\">\n",
              "    <div class=\"colab-df-container\">\n",
              "      <div>\n",
              "<style scoped>\n",
              "    .dataframe tbody tr th:only-of-type {\n",
              "        vertical-align: middle;\n",
              "    }\n",
              "\n",
              "    .dataframe tbody tr th {\n",
              "        vertical-align: top;\n",
              "    }\n",
              "\n",
              "    .dataframe thead th {\n",
              "        text-align: right;\n",
              "    }\n",
              "</style>\n",
              "<table border=\"1\" class=\"dataframe\">\n",
              "  <thead>\n",
              "    <tr style=\"text-align: right;\">\n",
              "      <th></th>\n",
              "      <th>Tweet</th>\n",
              "      <th>Product</th>\n",
              "      <th>Sentiment</th>\n",
              "    </tr>\n",
              "  </thead>\n",
              "  <tbody>\n",
              "    <tr>\n",
              "      <th>0</th>\n",
              "      <td>.@wesley83 I have a 3G iPhone. After 3 hrs tweeting at #RISE_Austin, it was dead!  I need to upgrade. Plugin stations at #SXSW.</td>\n",
              "      <td>iPhone</td>\n",
              "      <td>Negative emotion</td>\n",
              "    </tr>\n",
              "    <tr>\n",
              "      <th>1</th>\n",
              "      <td>@jessedee Know about @fludapp ? Awesome iPad/iPhone app that you'll likely appreciate for its design. Also, they're giving free Ts at #SXSW</td>\n",
              "      <td>iPad or iPhone App</td>\n",
              "      <td>Positive emotion</td>\n",
              "    </tr>\n",
              "    <tr>\n",
              "      <th>2</th>\n",
              "      <td>@swonderlin Can not wait for #iPad 2 also. They should sale them down at #SXSW.</td>\n",
              "      <td>iPad</td>\n",
              "      <td>Positive emotion</td>\n",
              "    </tr>\n",
              "    <tr>\n",
              "      <th>3</th>\n",
              "      <td>@sxsw I hope this year's festival isn't as crashy as this year's iPhone app. #sxsw</td>\n",
              "      <td>iPad or iPhone App</td>\n",
              "      <td>Negative emotion</td>\n",
              "    </tr>\n",
              "    <tr>\n",
              "      <th>4</th>\n",
              "      <td>@sxtxstate great stuff on Fri #SXSW: Marissa Mayer (Google), Tim O'Reilly (tech books/conferences) &amp;amp; Matt Mullenweg (Wordpress)</td>\n",
              "      <td>Google</td>\n",
              "      <td>Positive emotion</td>\n",
              "    </tr>\n",
              "    <tr>\n",
              "      <th>...</th>\n",
              "      <td>...</td>\n",
              "      <td>...</td>\n",
              "      <td>...</td>\n",
              "    </tr>\n",
              "    <tr>\n",
              "      <th>8716</th>\n",
              "      <td>Ipad everywhere. #SXSW {link}</td>\n",
              "      <td>iPad</td>\n",
              "      <td>Positive emotion</td>\n",
              "    </tr>\n",
              "    <tr>\n",
              "      <th>8717</th>\n",
              "      <td>Wave, buzz... RT @mention We interrupt your regularly scheduled #sxsw geek programming with big news {link}  #google #circles</td>\n",
              "      <td>NaN</td>\n",
              "      <td>No emotion</td>\n",
              "    </tr>\n",
              "    <tr>\n",
              "      <th>8718</th>\n",
              "      <td>Google's Zeiger, a physician never reported potential AE. Yet FDA relies on physicians. &amp;quot;We're operating w/out data.&amp;quot; #sxsw #health2dev</td>\n",
              "      <td>NaN</td>\n",
              "      <td>No emotion</td>\n",
              "    </tr>\n",
              "    <tr>\n",
              "      <th>8719</th>\n",
              "      <td>Some Verizon iPhone customers complained their time fell back an hour this weekend.  Of course they were the New Yorkers who attended #SXSW.</td>\n",
              "      <td>NaN</td>\n",
              "      <td>No emotion</td>\n",
              "    </tr>\n",
              "    <tr>\n",
              "      <th>8720</th>\n",
              "      <td>�ϡ�����_��ʋ�΋�ҋ�������⋁_��������_���RT @mention Google Tests ���Check-in Offers�۝ At #SXSW {link}</td>\n",
              "      <td>NaN</td>\n",
              "      <td>No emotion</td>\n",
              "    </tr>\n",
              "  </tbody>\n",
              "</table>\n",
              "<p>8699 rows × 3 columns</p>\n",
              "</div>\n",
              "      <button class=\"colab-df-convert\" onclick=\"convertToInteractive('df-84d2626b-39bc-4c5a-85c3-6fefc0ef34db')\"\n",
              "              title=\"Convert this dataframe to an interactive table.\"\n",
              "              style=\"display:none;\">\n",
              "        \n",
              "  <svg xmlns=\"http://www.w3.org/2000/svg\" height=\"24px\"viewBox=\"0 0 24 24\"\n",
              "       width=\"24px\">\n",
              "    <path d=\"M0 0h24v24H0V0z\" fill=\"none\"/>\n",
              "    <path d=\"M18.56 5.44l.94 2.06.94-2.06 2.06-.94-2.06-.94-.94-2.06-.94 2.06-2.06.94zm-11 1L8.5 8.5l.94-2.06 2.06-.94-2.06-.94L8.5 2.5l-.94 2.06-2.06.94zm10 10l.94 2.06.94-2.06 2.06-.94-2.06-.94-.94-2.06-.94 2.06-2.06.94z\"/><path d=\"M17.41 7.96l-1.37-1.37c-.4-.4-.92-.59-1.43-.59-.52 0-1.04.2-1.43.59L10.3 9.45l-7.72 7.72c-.78.78-.78 2.05 0 2.83L4 21.41c.39.39.9.59 1.41.59.51 0 1.02-.2 1.41-.59l7.78-7.78 2.81-2.81c.8-.78.8-2.07 0-2.86zM5.41 20L4 18.59l7.72-7.72 1.47 1.35L5.41 20z\"/>\n",
              "  </svg>\n",
              "      </button>\n",
              "      \n",
              "  <style>\n",
              "    .colab-df-container {\n",
              "      display:flex;\n",
              "      flex-wrap:wrap;\n",
              "      gap: 12px;\n",
              "    }\n",
              "\n",
              "    .colab-df-convert {\n",
              "      background-color: #E8F0FE;\n",
              "      border: none;\n",
              "      border-radius: 50%;\n",
              "      cursor: pointer;\n",
              "      display: none;\n",
              "      fill: #1967D2;\n",
              "      height: 32px;\n",
              "      padding: 0 0 0 0;\n",
              "      width: 32px;\n",
              "    }\n",
              "\n",
              "    .colab-df-convert:hover {\n",
              "      background-color: #E2EBFA;\n",
              "      box-shadow: 0px 1px 2px rgba(60, 64, 67, 0.3), 0px 1px 3px 1px rgba(60, 64, 67, 0.15);\n",
              "      fill: #174EA6;\n",
              "    }\n",
              "\n",
              "    [theme=dark] .colab-df-convert {\n",
              "      background-color: #3B4455;\n",
              "      fill: #D2E3FC;\n",
              "    }\n",
              "\n",
              "    [theme=dark] .colab-df-convert:hover {\n",
              "      background-color: #434B5C;\n",
              "      box-shadow: 0px 1px 3px 1px rgba(0, 0, 0, 0.15);\n",
              "      filter: drop-shadow(0px 1px 2px rgba(0, 0, 0, 0.3));\n",
              "      fill: #FFFFFF;\n",
              "    }\n",
              "  </style>\n",
              "\n",
              "      <script>\n",
              "        const buttonEl =\n",
              "          document.querySelector('#df-84d2626b-39bc-4c5a-85c3-6fefc0ef34db button.colab-df-convert');\n",
              "        buttonEl.style.display =\n",
              "          google.colab.kernel.accessAllowed ? 'block' : 'none';\n",
              "\n",
              "        async function convertToInteractive(key) {\n",
              "          const element = document.querySelector('#df-84d2626b-39bc-4c5a-85c3-6fefc0ef34db');\n",
              "          const dataTable =\n",
              "            await google.colab.kernel.invokeFunction('convertToInteractive',\n",
              "                                                     [key], {});\n",
              "          if (!dataTable) return;\n",
              "\n",
              "          const docLinkHtml = 'Like what you see? Visit the ' +\n",
              "            '<a target=\"_blank\" href=https://colab.research.google.com/notebooks/data_table.ipynb>data table notebook</a>'\n",
              "            + ' to learn more about interactive tables.';\n",
              "          element.innerHTML = '';\n",
              "          dataTable['output_type'] = 'display_data';\n",
              "          await google.colab.output.renderOutput(dataTable, element);\n",
              "          const docLink = document.createElement('div');\n",
              "          docLink.innerHTML = docLinkHtml;\n",
              "          element.appendChild(docLink);\n",
              "        }\n",
              "      </script>\n",
              "    </div>\n",
              "  </div>\n",
              "  "
            ],
            "text/plain": [
              "                                                                                                                                                  Tweet  \\\n",
              "0                       .@wesley83 I have a 3G iPhone. After 3 hrs tweeting at #RISE_Austin, it was dead!  I need to upgrade. Plugin stations at #SXSW.   \n",
              "1           @jessedee Know about @fludapp ? Awesome iPad/iPhone app that you'll likely appreciate for its design. Also, they're giving free Ts at #SXSW   \n",
              "2                                                                       @swonderlin Can not wait for #iPad 2 also. They should sale them down at #SXSW.   \n",
              "3                                                                    @sxsw I hope this year's festival isn't as crashy as this year's iPhone app. #sxsw   \n",
              "4                   @sxtxstate great stuff on Fri #SXSW: Marissa Mayer (Google), Tim O'Reilly (tech books/conferences) &amp; Matt Mullenweg (Wordpress)   \n",
              "...                                                                                                                                                 ...   \n",
              "8716                                                                                                                      Ipad everywhere. #SXSW {link}   \n",
              "8717                      Wave, buzz... RT @mention We interrupt your regularly scheduled #sxsw geek programming with big news {link}  #google #circles   \n",
              "8718  Google's Zeiger, a physician never reported potential AE. Yet FDA relies on physicians. &quot;We're operating w/out data.&quot; #sxsw #health2dev   \n",
              "8719       Some Verizon iPhone customers complained their time fell back an hour this weekend.  Of course they were the New Yorkers who attended #SXSW.   \n",
              "8720                                                  �ϡ�����_��ʋ�΋�ҋ�������⋁_��������_���RT @mention Google Tests ���Check-in Offers�۝ At #SXSW {link}   \n",
              "\n",
              "                 Product         Sentiment  \n",
              "0                 iPhone  Negative emotion  \n",
              "1     iPad or iPhone App  Positive emotion  \n",
              "2                   iPad  Positive emotion  \n",
              "3     iPad or iPhone App  Negative emotion  \n",
              "4                 Google  Positive emotion  \n",
              "...                  ...               ...  \n",
              "8716                iPad  Positive emotion  \n",
              "8717                 NaN        No emotion  \n",
              "8718                 NaN        No emotion  \n",
              "8719                 NaN        No emotion  \n",
              "8720                 NaN        No emotion  \n",
              "\n",
              "[8699 rows x 3 columns]"
            ]
          },
          "execution_count": 172,
          "metadata": {},
          "output_type": "execute_result"
        }
      ],
      "source": [
        "#More data cleaning procedures\n",
        "#drop duplicates\n",
        "data.drop_duplicates(inplace=True)\n",
        "data"
      ]
    },
    {
      "cell_type": "markdown",
      "metadata": {
        "id": "Uc_QQ2RUsokl"
      },
      "source": [
        "As noted above, the tweet column has key words that show the product example `row 8719` has a customer complaining about an iphone and the prodcut is not identified. We can solve this by creating a function that find the product and tweet and combines to form the brand column."
      ]
    },
    {
      "cell_type": "code",
      "execution_count": null,
      "metadata": {
        "id": "L9havvC2yej1"
      },
      "outputs": [],
      "source": [
        "# Checking for anomalies in the data\n",
        "#drops Tweets with nonsensical characters\n",
        "data.drop([6, 8720], inplace=True)"
      ]
    },
    {
      "cell_type": "code",
      "execution_count": null,
      "metadata": {
        "id": "kQHWcFPezRhB"
      },
      "outputs": [],
      "source": [
        "#reset the index after cleaning\n",
        "data.reset_index(inplace=True)\n",
        "data.drop(columns=\"index\", inplace = True)"
      ]
    },
    {
      "cell_type": "code",
      "execution_count": null,
      "metadata": {
        "colab": {
          "base_uri": "https://localhost:8080/"
        },
        "id": "5UMA0tyCzd4V",
        "outputId": "c115ad43-a64e-4193-e787-e5bb97b57d19"
      },
      "outputs": [
        {
          "name": "stdout",
          "output_type": "stream",
          "text": [
            "Tweet           0\n",
            "Product      5537\n",
            "Sentiment       0\n",
            "dtype: int64\n"
          ]
        }
      ],
      "source": [
        "#looks at remaining NaN's\n",
        "print(data.isna().sum())"
      ]
    },
    {
      "cell_type": "code",
      "execution_count": null,
      "metadata": {
        "colab": {
          "base_uri": "https://localhost:8080/",
          "height": 571
        },
        "id": "stDMpPk_zjy4",
        "outputId": "7e0b2d11-790e-44c3-d844-a1e866db9435"
      },
      "outputs": [
        {
          "data": {
            "text/html": [
              "\n",
              "  <div id=\"df-61ff4e71-2870-406e-8f24-9b67fb060839\">\n",
              "    <div class=\"colab-df-container\">\n",
              "      <div>\n",
              "<style scoped>\n",
              "    .dataframe tbody tr th:only-of-type {\n",
              "        vertical-align: middle;\n",
              "    }\n",
              "\n",
              "    .dataframe tbody tr th {\n",
              "        vertical-align: top;\n",
              "    }\n",
              "\n",
              "    .dataframe thead th {\n",
              "        text-align: right;\n",
              "    }\n",
              "</style>\n",
              "<table border=\"1\" class=\"dataframe\">\n",
              "  <thead>\n",
              "    <tr style=\"text-align: right;\">\n",
              "      <th></th>\n",
              "      <th>Tweet</th>\n",
              "      <th>Product</th>\n",
              "      <th>Sentiment</th>\n",
              "    </tr>\n",
              "  </thead>\n",
              "  <tbody>\n",
              "    <tr>\n",
              "      <th>0</th>\n",
              "      <td>.@wesley83 I have a 3G iPhone. After 3 hrs tweeting at #RISE_Austin, it was dead!  I need to upgrade. Plugin stations at #SXSW.</td>\n",
              "      <td>iPhone</td>\n",
              "      <td>Negative emotion</td>\n",
              "    </tr>\n",
              "    <tr>\n",
              "      <th>1</th>\n",
              "      <td>@jessedee Know about @fludapp ? Awesome iPad/iPhone app that you'll likely appreciate for its design. Also, they're giving free Ts at #SXSW</td>\n",
              "      <td>iPad or iPhone App</td>\n",
              "      <td>Positive emotion</td>\n",
              "    </tr>\n",
              "    <tr>\n",
              "      <th>2</th>\n",
              "      <td>@swonderlin Can not wait for #iPad 2 also. They should sale them down at #SXSW.</td>\n",
              "      <td>iPad</td>\n",
              "      <td>Positive emotion</td>\n",
              "    </tr>\n",
              "    <tr>\n",
              "      <th>3</th>\n",
              "      <td>@sxsw I hope this year's festival isn't as crashy as this year's iPhone app. #sxsw</td>\n",
              "      <td>iPad or iPhone App</td>\n",
              "      <td>Negative emotion</td>\n",
              "    </tr>\n",
              "    <tr>\n",
              "      <th>4</th>\n",
              "      <td>@sxtxstate great stuff on Fri #SXSW: Marissa Mayer (Google), Tim O'Reilly (tech books/conferences) &amp;amp; Matt Mullenweg (Wordpress)</td>\n",
              "      <td>Google</td>\n",
              "      <td>Positive emotion</td>\n",
              "    </tr>\n",
              "    <tr>\n",
              "      <th>...</th>\n",
              "      <td>...</td>\n",
              "      <td>...</td>\n",
              "      <td>...</td>\n",
              "    </tr>\n",
              "    <tr>\n",
              "      <th>8692</th>\n",
              "      <td>@mention Yup, but I don't have a third app yet. I'm on Android, any suggestions? #SXSW CC: @mention</td>\n",
              "      <td>Undefined</td>\n",
              "      <td>No emotion</td>\n",
              "    </tr>\n",
              "    <tr>\n",
              "      <th>8693</th>\n",
              "      <td>Ipad everywhere. #SXSW {link}</td>\n",
              "      <td>iPad</td>\n",
              "      <td>Positive emotion</td>\n",
              "    </tr>\n",
              "    <tr>\n",
              "      <th>8694</th>\n",
              "      <td>Wave, buzz... RT @mention We interrupt your regularly scheduled #sxsw geek programming with big news {link}  #google #circles</td>\n",
              "      <td>Undefined</td>\n",
              "      <td>No emotion</td>\n",
              "    </tr>\n",
              "    <tr>\n",
              "      <th>8695</th>\n",
              "      <td>Google's Zeiger, a physician never reported potential AE. Yet FDA relies on physicians. &amp;quot;We're operating w/out data.&amp;quot; #sxsw #health2dev</td>\n",
              "      <td>Undefined</td>\n",
              "      <td>No emotion</td>\n",
              "    </tr>\n",
              "    <tr>\n",
              "      <th>8696</th>\n",
              "      <td>Some Verizon iPhone customers complained their time fell back an hour this weekend.  Of course they were the New Yorkers who attended #SXSW.</td>\n",
              "      <td>Undefined</td>\n",
              "      <td>No emotion</td>\n",
              "    </tr>\n",
              "  </tbody>\n",
              "</table>\n",
              "<p>8697 rows × 3 columns</p>\n",
              "</div>\n",
              "      <button class=\"colab-df-convert\" onclick=\"convertToInteractive('df-61ff4e71-2870-406e-8f24-9b67fb060839')\"\n",
              "              title=\"Convert this dataframe to an interactive table.\"\n",
              "              style=\"display:none;\">\n",
              "        \n",
              "  <svg xmlns=\"http://www.w3.org/2000/svg\" height=\"24px\"viewBox=\"0 0 24 24\"\n",
              "       width=\"24px\">\n",
              "    <path d=\"M0 0h24v24H0V0z\" fill=\"none\"/>\n",
              "    <path d=\"M18.56 5.44l.94 2.06.94-2.06 2.06-.94-2.06-.94-.94-2.06-.94 2.06-2.06.94zm-11 1L8.5 8.5l.94-2.06 2.06-.94-2.06-.94L8.5 2.5l-.94 2.06-2.06.94zm10 10l.94 2.06.94-2.06 2.06-.94-2.06-.94-.94-2.06-.94 2.06-2.06.94z\"/><path d=\"M17.41 7.96l-1.37-1.37c-.4-.4-.92-.59-1.43-.59-.52 0-1.04.2-1.43.59L10.3 9.45l-7.72 7.72c-.78.78-.78 2.05 0 2.83L4 21.41c.39.39.9.59 1.41.59.51 0 1.02-.2 1.41-.59l7.78-7.78 2.81-2.81c.8-.78.8-2.07 0-2.86zM5.41 20L4 18.59l7.72-7.72 1.47 1.35L5.41 20z\"/>\n",
              "  </svg>\n",
              "      </button>\n",
              "      \n",
              "  <style>\n",
              "    .colab-df-container {\n",
              "      display:flex;\n",
              "      flex-wrap:wrap;\n",
              "      gap: 12px;\n",
              "    }\n",
              "\n",
              "    .colab-df-convert {\n",
              "      background-color: #E8F0FE;\n",
              "      border: none;\n",
              "      border-radius: 50%;\n",
              "      cursor: pointer;\n",
              "      display: none;\n",
              "      fill: #1967D2;\n",
              "      height: 32px;\n",
              "      padding: 0 0 0 0;\n",
              "      width: 32px;\n",
              "    }\n",
              "\n",
              "    .colab-df-convert:hover {\n",
              "      background-color: #E2EBFA;\n",
              "      box-shadow: 0px 1px 2px rgba(60, 64, 67, 0.3), 0px 1px 3px 1px rgba(60, 64, 67, 0.15);\n",
              "      fill: #174EA6;\n",
              "    }\n",
              "\n",
              "    [theme=dark] .colab-df-convert {\n",
              "      background-color: #3B4455;\n",
              "      fill: #D2E3FC;\n",
              "    }\n",
              "\n",
              "    [theme=dark] .colab-df-convert:hover {\n",
              "      background-color: #434B5C;\n",
              "      box-shadow: 0px 1px 3px 1px rgba(0, 0, 0, 0.15);\n",
              "      filter: drop-shadow(0px 1px 2px rgba(0, 0, 0, 0.3));\n",
              "      fill: #FFFFFF;\n",
              "    }\n",
              "  </style>\n",
              "\n",
              "      <script>\n",
              "        const buttonEl =\n",
              "          document.querySelector('#df-61ff4e71-2870-406e-8f24-9b67fb060839 button.colab-df-convert');\n",
              "        buttonEl.style.display =\n",
              "          google.colab.kernel.accessAllowed ? 'block' : 'none';\n",
              "\n",
              "        async function convertToInteractive(key) {\n",
              "          const element = document.querySelector('#df-61ff4e71-2870-406e-8f24-9b67fb060839');\n",
              "          const dataTable =\n",
              "            await google.colab.kernel.invokeFunction('convertToInteractive',\n",
              "                                                     [key], {});\n",
              "          if (!dataTable) return;\n",
              "\n",
              "          const docLinkHtml = 'Like what you see? Visit the ' +\n",
              "            '<a target=\"_blank\" href=https://colab.research.google.com/notebooks/data_table.ipynb>data table notebook</a>'\n",
              "            + ' to learn more about interactive tables.';\n",
              "          element.innerHTML = '';\n",
              "          dataTable['output_type'] = 'display_data';\n",
              "          await google.colab.output.renderOutput(dataTable, element);\n",
              "          const docLink = document.createElement('div');\n",
              "          docLink.innerHTML = docLinkHtml;\n",
              "          element.appendChild(docLink);\n",
              "        }\n",
              "      </script>\n",
              "    </div>\n",
              "  </div>\n",
              "  "
            ],
            "text/plain": [
              "                                                                                                                                                  Tweet  \\\n",
              "0                       .@wesley83 I have a 3G iPhone. After 3 hrs tweeting at #RISE_Austin, it was dead!  I need to upgrade. Plugin stations at #SXSW.   \n",
              "1           @jessedee Know about @fludapp ? Awesome iPad/iPhone app that you'll likely appreciate for its design. Also, they're giving free Ts at #SXSW   \n",
              "2                                                                       @swonderlin Can not wait for #iPad 2 also. They should sale them down at #SXSW.   \n",
              "3                                                                    @sxsw I hope this year's festival isn't as crashy as this year's iPhone app. #sxsw   \n",
              "4                   @sxtxstate great stuff on Fri #SXSW: Marissa Mayer (Google), Tim O'Reilly (tech books/conferences) &amp; Matt Mullenweg (Wordpress)   \n",
              "...                                                                                                                                                 ...   \n",
              "8692                                                @mention Yup, but I don't have a third app yet. I'm on Android, any suggestions? #SXSW CC: @mention   \n",
              "8693                                                                                                                      Ipad everywhere. #SXSW {link}   \n",
              "8694                      Wave, buzz... RT @mention We interrupt your regularly scheduled #sxsw geek programming with big news {link}  #google #circles   \n",
              "8695  Google's Zeiger, a physician never reported potential AE. Yet FDA relies on physicians. &quot;We're operating w/out data.&quot; #sxsw #health2dev   \n",
              "8696       Some Verizon iPhone customers complained their time fell back an hour this weekend.  Of course they were the New Yorkers who attended #SXSW.   \n",
              "\n",
              "                 Product         Sentiment  \n",
              "0                 iPhone  Negative emotion  \n",
              "1     iPad or iPhone App  Positive emotion  \n",
              "2                   iPad  Positive emotion  \n",
              "3     iPad or iPhone App  Negative emotion  \n",
              "4                 Google  Positive emotion  \n",
              "...                  ...               ...  \n",
              "8692           Undefined        No emotion  \n",
              "8693                iPad  Positive emotion  \n",
              "8694           Undefined        No emotion  \n",
              "8695           Undefined        No emotion  \n",
              "8696           Undefined        No emotion  \n",
              "\n",
              "[8697 rows x 3 columns]"
            ]
          },
          "execution_count": 176,
          "metadata": {},
          "output_type": "execute_result"
        }
      ],
      "source": [
        "#Fills NaN's with \"Undefined\" to help with data visualizations\n",
        "data['Product'].fillna(\"Undefined\", inplace = True)\n",
        "data"
      ]
    },
    {
      "cell_type": "code",
      "execution_count": null,
      "metadata": {
        "colab": {
          "base_uri": "https://localhost:8080/",
          "height": 970
        },
        "id": "FJygErdbzy1Q",
        "outputId": "3df6d0e4-bc3a-41fc-88bb-e0d05ad69729"
      },
      "outputs": [
        {
          "data": {
            "image/png": "[encoded data removed]",
            "text/plain": [
              "<Figure size 864x1008 with 1 Axes>"
            ]
          },
          "metadata": {
            "needs_background": "light"
          },
          "output_type": "display_data"
        }
      ],
      "source": [
        "#Plot to check the distribution\n",
        "fig, ax = plt.subplots(figsize=(12,14))\n",
        "sns.histplot(data[\"Product\"] )\n",
        "plt.xticks(rotation = 75)\n",
        "plt.show()"
      ]
    },
    {
      "cell_type": "markdown",
      "metadata": {
        "id": "uY66aIHZ1WlM"
      },
      "source": [
        "Although the imbalance between the unidentified products may make it difficult to analyze product sentiment, we can still use this column to identify the brand that the tweets are primarily focused on."
      ]
    },
    {
      "cell_type": "code",
      "execution_count": null,
      "metadata": {
        "colab": {
          "base_uri": "https://localhost:8080/"
        },
        "id": "fQ9q0gD1sjIi",
        "outputId": "100ee392-016a-4f37-f3e8-9a0839f7c08a"
      },
      "outputs": [
        {
          "data": {
            "text/plain": [
              "0                   iPhone\n",
              "1       iPad or iPhone App\n",
              "2                     iPad\n",
              "3       iPad or iPhone App\n",
              "4                   Google\n",
              "               ...        \n",
              "8692             Undefined\n",
              "8693                  iPad\n",
              "8694             Undefined\n",
              "8695             Undefined\n",
              "8696             Undefined\n",
              "Name: Product, Length: 8697, dtype: object"
            ]
          },
          "execution_count": 178,
          "metadata": {},
          "output_type": "execute_result"
        }
      ],
      "source": [
        "#we are going to set the Product type as a string for our function below.\n",
        "data[\"Product\"].astype(str)"
      ]
    },
    {
      "cell_type": "markdown",
      "metadata": {
        "id": "tj3L4COe1uD0"
      },
      "source": [
        "A brand's sentiment is being measured by the model. As a result, we need to examine how the dataset is divided up among the various companies. Two of the biggest tech brands in the world are represented by the two brands in this data set. Google and Apple. To assign each tweet to a brand, we will therefore create a new column."
      ]
    },
    {
      "cell_type": "code",
      "execution_count": null,
      "metadata": {
        "colab": {
          "base_uri": "https://localhost:8080/"
        },
        "id": "59qUeCBRrF7E",
        "outputId": "9bbf8405-0eb2-432a-9d09-c73caf38bef1"
      },
      "outputs": [
        {
          "data": {
            "text/plain": [
              "Apple           5140\n",
              "Google          2637\n",
              "Undetermined     715\n",
              "Both             205\n",
              "Name: Brand, dtype: int64"
            ]
          },
          "execution_count": 179,
          "metadata": {},
          "output_type": "execute_result"
        }
      ],
      "source": [
        "# Function that finds a brand\n",
        "def find_brand(Product, Tweet):\n",
        "    \"\"\"\n",
        "    This function is designed to take build a brand column based on the Product description. \n",
        "    After, the function will look at the Tweets and determine a brand for rows with no brand determined.\n",
        "    \n",
        "    Product -  a column the function is working on\n",
        "    Tweet - a column the function is working on\n",
        "    \"\"\"\n",
        "    brand = 'Undetermined' #Labeling brand as Undetermined\n",
        "    if ((Product.lower().__contains__('google')) or (Product.lower().__contains__('android'))): #Labeling Google\n",
        "        brand = 'Google' #Unless tweet contains google or android\n",
        "    elif ((Product.lower().__contains__('apple')) or (Product.lower().__contains__('ip'))): #Labeling Apple\n",
        "        brand = 'Apple' #Unless tweet contains apple or ip\n",
        "    \n",
        "    if (brand == 'Undetermined'): \n",
        "        lower_tweet = Tweet.lower() #Making tweet lowercase\n",
        "        is_google = (lower_tweet.__contains__('google')) or (lower_tweet.__contains__('android')) #Undetermined google\n",
        "        is_apple = (lower_tweet.__contains__('apple')) or (lower_tweet.__contains__('ip')) #Undetermined apple\n",
        "        \n",
        "        if (is_google and is_apple): #if it has both identifiers in the tweet\n",
        "            brand = 'Both' #Labeling brand as both\n",
        "        elif (is_google):\n",
        "            brand = 'Google' #Labeling brand as Google\n",
        "        elif (is_apple):\n",
        "            brand = 'Apple' #Labeling brand as Apple\n",
        "    \n",
        "    return brand\n",
        "\n",
        "data['Brand'] = data.apply(lambda x: find_brand(x['Product'], x['Tweet']), axis = 1) #Applying function to column\n",
        "data['Brand'].value_counts() #Reviewing value counts of each class within brand\n"
      ]
    },
    {
      "cell_type": "markdown",
      "metadata": {
        "id": "p1uGW4UO1yLV"
      },
      "source": [
        "We can now analyze sentiment across brands without losing data thanks to the creation of a brand column. To help our models be trained on real-world scenarios, we continue to use the Undertermined and Both Brands."
      ]
    },
    {
      "cell_type": "markdown",
      "metadata": {
        "id": "rF2ABPsHUtbZ"
      },
      "source": [
        "## 3. EXPLORATORY DATA ANALYSIS"
      ]
    },
    {
      "cell_type": "markdown",
      "metadata": {
        "id": "tO3Cqd1k4lIU"
      },
      "source": [
        "Ploting the bivariate summaries and recording our observations"
      ]
    },
    {
      "cell_type": "code",
      "execution_count": null,
      "metadata": {
        "id": "5nnRToniXGDK"
      },
      "outputs": [],
      "source": [
        "# This function builds a Seaborn countplot and allows the user to set certain parameters to customize the graph.\n",
        "def countplot(df, col, hue=None, rotation=None):\n",
        "    fig, ax = plt.subplots(figsize=(12,8))\n",
        "    sns.countplot(data = df, x = col, hue = hue, order = df[col].value_counts().index)\n",
        "    ax.set_xticklabels(labels = ax.get_xticklabels(), rotation= rotation, fontsize = 15)\n",
        "    ax.set_xlabel(xlabel = col, fontsize = 20)\n",
        "    ax.tick_params(axis='y', which='major', labelsize=15)\n",
        "    ax.set_ylabel(ylabel = \"Number of Tweets\", fontsize = 20)\n",
        "    ax.set_title(f\"Number of Tweets per {col}\", fontsize = 30)\n",
        "    plt.show()\n"
      ]
    },
    {
      "cell_type": "code",
      "execution_count": null,
      "metadata": {
        "colab": {
          "base_uri": "https://localhost:8080/",
          "height": 540
        },
        "id": "LF_Ag6GGqZr9",
        "outputId": "abb4e8ac-3082-4fc2-aa67-b0a417f6bade"
      },
      "outputs": [
        {
          "data": {
            "image/png": "[encoded data removed]",
            "text/plain": [
              "<Figure size 864x576 with 1 Axes>"
            ]
          },
          "metadata": {
            "needs_background": "light"
          },
          "output_type": "display_data"
        }
      ],
      "source": [
        "#countplot for Brand\n",
        "countplot(data, \"Brand\")"
      ]
    },
    {
      "cell_type": "markdown",
      "source": [
        "As shown above in the histogram apple had more tweet comments as compared to other brands."
      ],
      "metadata": {
        "id": "pKbrkM0-dmkT"
      }
    },
    {
      "cell_type": "code",
      "execution_count": null,
      "metadata": {
        "colab": {
          "base_uri": "https://localhost:8080/",
          "height": 763
        },
        "id": "uOKgTzsS4tv5",
        "outputId": "b0b4380a-c299-4365-99b4-0f8793052da3"
      },
      "outputs": [
        {
          "data": {
            "image/png": "[encoded data removed]",
            "text/plain": [
              "<Figure size 864x576 with 1 Axes>"
            ]
          },
          "metadata": {
            "needs_background": "light"
          },
          "output_type": "display_data"
        }
      ],
      "source": [
        "#countplot for Product\n",
        "countplot(data, \"Product\", hue=None, rotation=75)"
      ]
    },
    {
      "cell_type": "markdown",
      "source": [
        "The histogram shows that most tweets belonged to undefined product followed by apple, ipad and iphone which are apple brand products."
      ],
      "metadata": {
        "id": "V6sgkBPedvSZ"
      }
    },
    {
      "cell_type": "code",
      "execution_count": null,
      "metadata": {
        "colab": {
          "base_uri": "https://localhost:8080/",
          "height": 540
        },
        "id": "0jMwqhKg4ylu",
        "outputId": "ee295798-43e0-494f-c5d0-22fa12907ca0"
      },
      "outputs": [
        {
          "data": {
            "image/png": "[encoded data removed]",
            "text/plain": [
              "<Figure size 864x576 with 1 Axes>"
            ]
          },
          "metadata": {
            "needs_background": "light"
          },
          "output_type": "display_data"
        }
      ],
      "source": [
        "# Count plot for sentiment\n",
        "countplot(data, \"Sentiment\")"
      ]
    },
    {
      "cell_type": "markdown",
      "source": [
        "No emotions had more tweets followed by positive emotions as shown in the histogram above"
      ],
      "metadata": {
        "id": "Rqc7cGFxd4q8"
      }
    },
    {
      "cell_type": "code",
      "execution_count": null,
      "metadata": {
        "colab": {
          "base_uri": "https://localhost:8080/",
          "height": 540
        },
        "id": "ygNohEgA5CoH",
        "outputId": "ca26e9e0-3a47-4c04-b8fa-375622699246"
      },
      "outputs": [
        {
          "data": {
            "image/png": "[encoded data removed]",
            "text/plain": [
              "<Figure size 864x576 with 1 Axes>"
            ]
          },
          "metadata": {
            "needs_background": "light"
          },
          "output_type": "display_data"
        }
      ],
      "source": [
        "#count plot for Sentiment across brands\n",
        "countplot(data, \"Brand\", hue = \"Sentiment\")"
      ]
    },
    {
      "cell_type": "markdown",
      "source": [
        "Apple still has the highest number of all the sentiments that is negative, positive,no emotion and i can't tell."
      ],
      "metadata": {
        "id": "vEsqHv4Rd7eY"
      }
    },
    {
      "cell_type": "code",
      "execution_count": null,
      "metadata": {
        "colab": {
          "base_uri": "https://localhost:8080/",
          "height": 540
        },
        "id": "5nrZynZ45JJK",
        "outputId": "4cdb110a-c7ba-4050-8a72-c71f7896b4f4"
      },
      "outputs": [
        {
          "data": {
            "image/png": "[encoded data removed]",
            "text/plain": [
              "<Figure size 864x576 with 1 Axes>"
            ]
          },
          "metadata": {
            "needs_background": "light"
          },
          "output_type": "display_data"
        }
      ],
      "source": [
        "#countplot for brand make of sentiment\n",
        "countplot(data, \"Sentiment\", hue=\"Brand\")"
      ]
    },
    {
      "cell_type": "markdown",
      "source": [
        "The graph above still shows that apple leads in all the sentiments."
      ],
      "metadata": {
        "id": "m09Xq9D7eANx"
      }
    },
    {
      "cell_type": "code",
      "execution_count": null,
      "metadata": {
        "colab": {
          "base_uri": "https://localhost:8080/",
          "height": 582
        },
        "id": "JE4ziJXY5Wvz",
        "outputId": "cad0c608-7a4b-4427-a1bd-eefe2517ef5e"
      },
      "outputs": [
        {
          "data": {
            "text/html": [
              "\n",
              "  <div id=\"df-7670abb0-d514-4b6b-b967-62577c526638\">\n",
              "    <div class=\"colab-df-container\">\n",
              "      <div>\n",
              "<style scoped>\n",
              "    .dataframe tbody tr th:only-of-type {\n",
              "        vertical-align: middle;\n",
              "    }\n",
              "\n",
              "    .dataframe tbody tr th {\n",
              "        vertical-align: top;\n",
              "    }\n",
              "\n",
              "    .dataframe thead th {\n",
              "        text-align: right;\n",
              "    }\n",
              "</style>\n",
              "<table border=\"1\" class=\"dataframe\">\n",
              "  <thead>\n",
              "    <tr style=\"text-align: right;\">\n",
              "      <th></th>\n",
              "      <th></th>\n",
              "      <th>Tweet</th>\n",
              "      <th>Product</th>\n",
              "    </tr>\n",
              "    <tr>\n",
              "      <th>Brand</th>\n",
              "      <th>Sentiment</th>\n",
              "      <th></th>\n",
              "      <th></th>\n",
              "    </tr>\n",
              "  </thead>\n",
              "  <tbody>\n",
              "    <tr>\n",
              "      <th rowspan=\"4\" valign=\"top\">Apple</th>\n",
              "      <th>I can't tell</th>\n",
              "      <td>90</td>\n",
              "      <td>90</td>\n",
              "    </tr>\n",
              "    <tr>\n",
              "      <th>Negative emotion</th>\n",
              "      <td>398</td>\n",
              "      <td>398</td>\n",
              "    </tr>\n",
              "    <tr>\n",
              "      <th>No emotion</th>\n",
              "      <td>2604</td>\n",
              "      <td>2604</td>\n",
              "    </tr>\n",
              "    <tr>\n",
              "      <th>Positive emotion</th>\n",
              "      <td>2048</td>\n",
              "      <td>2048</td>\n",
              "    </tr>\n",
              "    <tr>\n",
              "      <th rowspan=\"4\" valign=\"top\">Both</th>\n",
              "      <th>I can't tell</th>\n",
              "      <td>7</td>\n",
              "      <td>7</td>\n",
              "    </tr>\n",
              "    <tr>\n",
              "      <th>Negative emotion</th>\n",
              "      <td>3</td>\n",
              "      <td>3</td>\n",
              "    </tr>\n",
              "    <tr>\n",
              "      <th>No emotion</th>\n",
              "      <td>185</td>\n",
              "      <td>185</td>\n",
              "    </tr>\n",
              "    <tr>\n",
              "      <th>Positive emotion</th>\n",
              "      <td>10</td>\n",
              "      <td>10</td>\n",
              "    </tr>\n",
              "    <tr>\n",
              "      <th rowspan=\"4\" valign=\"top\">Google</th>\n",
              "      <th>I can't tell</th>\n",
              "      <td>49</td>\n",
              "      <td>49</td>\n",
              "    </tr>\n",
              "    <tr>\n",
              "      <th>Negative emotion</th>\n",
              "      <td>142</td>\n",
              "      <td>142</td>\n",
              "    </tr>\n",
              "    <tr>\n",
              "      <th>No emotion</th>\n",
              "      <td>1656</td>\n",
              "      <td>1656</td>\n",
              "    </tr>\n",
              "    <tr>\n",
              "      <th>Positive emotion</th>\n",
              "      <td>790</td>\n",
              "      <td>790</td>\n",
              "    </tr>\n",
              "    <tr>\n",
              "      <th rowspan=\"4\" valign=\"top\">Undetermined</th>\n",
              "      <th>I can't tell</th>\n",
              "      <td>5</td>\n",
              "      <td>5</td>\n",
              "    </tr>\n",
              "    <tr>\n",
              "      <th>Negative emotion</th>\n",
              "      <td>1</td>\n",
              "      <td>1</td>\n",
              "    </tr>\n",
              "    <tr>\n",
              "      <th>No emotion</th>\n",
              "      <td>696</td>\n",
              "      <td>696</td>\n",
              "    </tr>\n",
              "    <tr>\n",
              "      <th>Positive emotion</th>\n",
              "      <td>13</td>\n",
              "      <td>13</td>\n",
              "    </tr>\n",
              "  </tbody>\n",
              "</table>\n",
              "</div>\n",
              "      <button class=\"colab-df-convert\" onclick=\"convertToInteractive('df-7670abb0-d514-4b6b-b967-62577c526638')\"\n",
              "              title=\"Convert this dataframe to an interactive table.\"\n",
              "              style=\"display:none;\">\n",
              "        \n",
              "  <svg xmlns=\"http://www.w3.org/2000/svg\" height=\"24px\"viewBox=\"0 0 24 24\"\n",
              "       width=\"24px\">\n",
              "    <path d=\"M0 0h24v24H0V0z\" fill=\"none\"/>\n",
              "    <path d=\"M18.56 5.44l.94 2.06.94-2.06 2.06-.94-2.06-.94-.94-2.06-.94 2.06-2.06.94zm-11 1L8.5 8.5l.94-2.06 2.06-.94-2.06-.94L8.5 2.5l-.94 2.06-2.06.94zm10 10l.94 2.06.94-2.06 2.06-.94-2.06-.94-.94-2.06-.94 2.06-2.06.94z\"/><path d=\"M17.41 7.96l-1.37-1.37c-.4-.4-.92-.59-1.43-.59-.52 0-1.04.2-1.43.59L10.3 9.45l-7.72 7.72c-.78.78-.78 2.05 0 2.83L4 21.41c.39.39.9.59 1.41.59.51 0 1.02-.2 1.41-.59l7.78-7.78 2.81-2.81c.8-.78.8-2.07 0-2.86zM5.41 20L4 18.59l7.72-7.72 1.47 1.35L5.41 20z\"/>\n",
              "  </svg>\n",
              "      </button>\n",
              "      \n",
              "  <style>\n",
              "    .colab-df-container {\n",
              "      display:flex;\n",
              "      flex-wrap:wrap;\n",
              "      gap: 12px;\n",
              "    }\n",
              "\n",
              "    .colab-df-convert {\n",
              "      background-color: #E8F0FE;\n",
              "      border: none;\n",
              "      border-radius: 50%;\n",
              "      cursor: pointer;\n",
              "      display: none;\n",
              "      fill: #1967D2;\n",
              "      height: 32px;\n",
              "      padding: 0 0 0 0;\n",
              "      width: 32px;\n",
              "    }\n",
              "\n",
              "    .colab-df-convert:hover {\n",
              "      background-color: #E2EBFA;\n",
              "      box-shadow: 0px 1px 2px rgba(60, 64, 67, 0.3), 0px 1px 3px 1px rgba(60, 64, 67, 0.15);\n",
              "      fill: #174EA6;\n",
              "    }\n",
              "\n",
              "    [theme=dark] .colab-df-convert {\n",
              "      background-color: #3B4455;\n",
              "      fill: #D2E3FC;\n",
              "    }\n",
              "\n",
              "    [theme=dark] .colab-df-convert:hover {\n",
              "      background-color: #434B5C;\n",
              "      box-shadow: 0px 1px 3px 1px rgba(0, 0, 0, 0.15);\n",
              "      filter: drop-shadow(0px 1px 2px rgba(0, 0, 0, 0.3));\n",
              "      fill: #FFFFFF;\n",
              "    }\n",
              "  </style>\n",
              "\n",
              "      <script>\n",
              "        const buttonEl =\n",
              "          document.querySelector('#df-7670abb0-d514-4b6b-b967-62577c526638 button.colab-df-convert');\n",
              "        buttonEl.style.display =\n",
              "          google.colab.kernel.accessAllowed ? 'block' : 'none';\n",
              "\n",
              "        async function convertToInteractive(key) {\n",
              "          const element = document.querySelector('#df-7670abb0-d514-4b6b-b967-62577c526638');\n",
              "          const dataTable =\n",
              "            await google.colab.kernel.invokeFunction('convertToInteractive',\n",
              "                                                     [key], {});\n",
              "          if (!dataTable) return;\n",
              "\n",
              "          const docLinkHtml = 'Like what you see? Visit the ' +\n",
              "            '<a target=\"_blank\" href=https://colab.research.google.com/notebooks/data_table.ipynb>data table notebook</a>'\n",
              "            + ' to learn more about interactive tables.';\n",
              "          element.innerHTML = '';\n",
              "          dataTable['output_type'] = 'display_data';\n",
              "          await google.colab.output.renderOutput(dataTable, element);\n",
              "          const docLink = document.createElement('div');\n",
              "          docLink.innerHTML = docLinkHtml;\n",
              "          element.appendChild(docLink);\n",
              "        }\n",
              "      </script>\n",
              "    </div>\n",
              "  </div>\n",
              "  "
            ],
            "text/plain": [
              "                               Tweet  Product\n",
              "Brand        Sentiment                       \n",
              "Apple        I can't tell         90       90\n",
              "             Negative emotion    398      398\n",
              "             No emotion         2604     2604\n",
              "             Positive emotion   2048     2048\n",
              "Both         I can't tell          7        7\n",
              "             Negative emotion      3        3\n",
              "             No emotion          185      185\n",
              "             Positive emotion     10       10\n",
              "Google       I can't tell         49       49\n",
              "             Negative emotion    142      142\n",
              "             No emotion         1656     1656\n",
              "             Positive emotion    790      790\n",
              "Undetermined I can't tell          5        5\n",
              "             Negative emotion      1        1\n",
              "             No emotion          696      696\n",
              "             Positive emotion     13       13"
            ]
          },
          "execution_count": 186,
          "metadata": {},
          "output_type": "execute_result"
        }
      ],
      "source": [
        "#looking at the number of tweets per brand per sentiment\n",
        "grouped = data.groupby([\"Brand\", \"Sentiment\"]).count()\n",
        "grouped"
      ]
    },
    {
      "cell_type": "code",
      "execution_count": null,
      "metadata": {
        "colab": {
          "base_uri": "https://localhost:8080/",
          "height": 693
        },
        "id": "0PC0sRsN5hg6",
        "outputId": "c14abe21-a71c-43c5-c575-f0a86680c3d9"
      },
      "outputs": [
        {
          "data": {
            "text/plain": [
              "Sentiment         Brand       \n",
              "I can't tell      Apple           0.596026\n",
              "                  Google          0.324503\n",
              "                  Both            0.046358\n",
              "                  Undetermined    0.033113\n",
              "Negative emotion  Apple           0.731618\n",
              "                  Google          0.261029\n",
              "                  Both            0.005515\n",
              "                  Undetermined    0.001838\n",
              "No emotion        Apple           0.506516\n",
              "                  Google          0.322116\n",
              "                  Undetermined    0.135382\n",
              "                  Both            0.035985\n",
              "Positive emotion  Apple           0.715834\n",
              "                  Google          0.276127\n",
              "                  Undetermined    0.004544\n",
              "                  Both            0.003495\n",
              "Name: Brand, dtype: float64"
            ]
          },
          "metadata": {},
          "output_type": "display_data"
        },
        {
          "name": "stdout",
          "output_type": "stream",
          "text": [
            "------------------------------------------------------------\n"
          ]
        },
        {
          "data": {
            "text/plain": [
              "Brand         Sentiment       \n",
              "Apple         No emotion          0.506615\n",
              "              Positive emotion    0.398444\n",
              "              Negative emotion    0.077432\n",
              "              I can't tell        0.017510\n",
              "Both          No emotion          0.902439\n",
              "              Positive emotion    0.048780\n",
              "              I can't tell        0.034146\n",
              "              Negative emotion    0.014634\n",
              "Google        No emotion          0.627986\n",
              "              Positive emotion    0.299583\n",
              "              Negative emotion    0.053849\n",
              "              I can't tell        0.018582\n",
              "Undetermined  No emotion          0.973427\n",
              "              Positive emotion    0.018182\n",
              "              I can't tell        0.006993\n",
              "              Negative emotion    0.001399\n",
              "Name: Sentiment, dtype: float64"
            ]
          },
          "metadata": {},
          "output_type": "display_data"
        }
      ],
      "source": [
        "#looking at sentitmental breakdown of brands\n",
        "display(data.groupby(['Sentiment'])['Brand'].value_counts(normalize = True))\n",
        "print(\"-\"*60)\n",
        "display(data.groupby(['Brand'])['Sentiment'].value_counts(normalize = True))"
      ]
    },
    {
      "cell_type": "code",
      "execution_count": null,
      "metadata": {
        "colab": {
          "base_uri": "https://localhost:8080/"
        },
        "id": "xi9HtVqy64iu",
        "outputId": "08d7824c-e6dd-4238-c97c-a2737ab094b5"
      },
      "outputs": [
        {
          "name": "stdout",
          "output_type": "stream",
          "text": [
            "Undefined                          5537\n",
            "iPad                                909\n",
            "Apple                               638\n",
            "iPad or iPhone App                  450\n",
            "Google                              410\n",
            "iPhone                              287\n",
            "Other Google product or service     282\n",
            "Android App                          77\n",
            "Android                              73\n",
            "Other Apple product or service       34\n",
            "Name: Product, dtype: int64\n",
            "------------------------------------------------------------\n",
            "No emotion          5141\n",
            "Positive emotion    2861\n",
            "Negative emotion     544\n",
            "I can't tell         151\n",
            "Name: Sentiment, dtype: int64\n",
            "------------------------------------------------------------\n",
            "Apple           5140\n",
            "Google          2637\n",
            "Undetermined     715\n",
            "Both             205\n",
            "Name: Brand, dtype: int64\n",
            "------------------------------------------------------------\n"
          ]
        }
      ],
      "source": [
        "#Number of Tweets per product\n",
        "print(data[\"Product\"].value_counts())\n",
        "print(\"-\"*60)\n",
        "#Number of Tweets per Sentiment\n",
        "print(data[\"Sentiment\"].value_counts())\n",
        "print(\"-\"*60)\n",
        "#Number of Tweet per Brand\n",
        "print(data[\"Brand\"].value_counts())\n",
        "print(\"-\"*60)"
      ]
    },
    {
      "cell_type": "code",
      "execution_count": null,
      "metadata": {
        "colab": {
          "base_uri": "https://localhost:8080/",
          "height": 624
        },
        "id": "K2UoxLg27fY4",
        "outputId": "e332c71a-1782-424a-9991-6ac2516e78ef"
      },
      "outputs": [
        {
          "data": {
            "text/html": [
              "\n",
              "  <div id=\"df-bb694e91-8f2f-48f1-9dca-e71f73f47606\">\n",
              "    <div class=\"colab-df-container\">\n",
              "      <div>\n",
              "<style scoped>\n",
              "    .dataframe tbody tr th:only-of-type {\n",
              "        vertical-align: middle;\n",
              "    }\n",
              "\n",
              "    .dataframe tbody tr th {\n",
              "        vertical-align: top;\n",
              "    }\n",
              "\n",
              "    .dataframe thead th {\n",
              "        text-align: right;\n",
              "    }\n",
              "</style>\n",
              "<table border=\"1\" class=\"dataframe\">\n",
              "  <thead>\n",
              "    <tr style=\"text-align: right;\">\n",
              "      <th></th>\n",
              "      <th>Tweet</th>\n",
              "      <th>Product</th>\n",
              "      <th>Sentiment</th>\n",
              "      <th>Brand</th>\n",
              "    </tr>\n",
              "  </thead>\n",
              "  <tbody>\n",
              "    <tr>\n",
              "      <th>0</th>\n",
              "      <td>.@wesley83 I have a 3G iPhone. After 3 hrs tweeting at #RISE_Austin, it was dead!  I need to upgrade. Plugin stations at #SXSW.</td>\n",
              "      <td>iPhone</td>\n",
              "      <td>Negative emotion</td>\n",
              "      <td>Apple</td>\n",
              "    </tr>\n",
              "    <tr>\n",
              "      <th>1</th>\n",
              "      <td>@jessedee Know about @fludapp ? Awesome iPad/iPhone app that you'll likely appreciate for its design. Also, they're giving free Ts at #SXSW</td>\n",
              "      <td>iPad or iPhone App</td>\n",
              "      <td>Positive emotion</td>\n",
              "      <td>Apple</td>\n",
              "    </tr>\n",
              "    <tr>\n",
              "      <th>2</th>\n",
              "      <td>@swonderlin Can not wait for #iPad 2 also. They should sale them down at #SXSW.</td>\n",
              "      <td>iPad</td>\n",
              "      <td>Positive emotion</td>\n",
              "      <td>Apple</td>\n",
              "    </tr>\n",
              "    <tr>\n",
              "      <th>3</th>\n",
              "      <td>@sxsw I hope this year's festival isn't as crashy as this year's iPhone app. #sxsw</td>\n",
              "      <td>iPad or iPhone App</td>\n",
              "      <td>Negative emotion</td>\n",
              "      <td>Apple</td>\n",
              "    </tr>\n",
              "    <tr>\n",
              "      <th>4</th>\n",
              "      <td>@sxtxstate great stuff on Fri #SXSW: Marissa Mayer (Google), Tim O'Reilly (tech books/conferences) &amp;amp; Matt Mullenweg (Wordpress)</td>\n",
              "      <td>Google</td>\n",
              "      <td>Positive emotion</td>\n",
              "      <td>Google</td>\n",
              "    </tr>\n",
              "    <tr>\n",
              "      <th>...</th>\n",
              "      <td>...</td>\n",
              "      <td>...</td>\n",
              "      <td>...</td>\n",
              "      <td>...</td>\n",
              "    </tr>\n",
              "    <tr>\n",
              "      <th>8692</th>\n",
              "      <td>@mention Yup, but I don't have a third app yet. I'm on Android, any suggestions? #SXSW CC: @mention</td>\n",
              "      <td>Undefined</td>\n",
              "      <td>No emotion</td>\n",
              "      <td>Google</td>\n",
              "    </tr>\n",
              "    <tr>\n",
              "      <th>8693</th>\n",
              "      <td>Ipad everywhere. #SXSW {link}</td>\n",
              "      <td>iPad</td>\n",
              "      <td>Positive emotion</td>\n",
              "      <td>Apple</td>\n",
              "    </tr>\n",
              "    <tr>\n",
              "      <th>8694</th>\n",
              "      <td>Wave, buzz... RT @mention We interrupt your regularly scheduled #sxsw geek programming with big news {link}  #google #circles</td>\n",
              "      <td>Undefined</td>\n",
              "      <td>No emotion</td>\n",
              "      <td>Google</td>\n",
              "    </tr>\n",
              "    <tr>\n",
              "      <th>8695</th>\n",
              "      <td>Google's Zeiger, a physician never reported potential AE. Yet FDA relies on physicians. &amp;quot;We're operating w/out data.&amp;quot; #sxsw #health2dev</td>\n",
              "      <td>Undefined</td>\n",
              "      <td>No emotion</td>\n",
              "      <td>Google</td>\n",
              "    </tr>\n",
              "    <tr>\n",
              "      <th>8696</th>\n",
              "      <td>Some Verizon iPhone customers complained their time fell back an hour this weekend.  Of course they were the New Yorkers who attended #SXSW.</td>\n",
              "      <td>Undefined</td>\n",
              "      <td>No emotion</td>\n",
              "      <td>Apple</td>\n",
              "    </tr>\n",
              "  </tbody>\n",
              "</table>\n",
              "<p>8697 rows × 4 columns</p>\n",
              "</div>\n",
              "      <button class=\"colab-df-convert\" onclick=\"convertToInteractive('df-bb694e91-8f2f-48f1-9dca-e71f73f47606')\"\n",
              "              title=\"Convert this dataframe to an interactive table.\"\n",
              "              style=\"display:none;\">\n",
              "        \n",
              "  <svg xmlns=\"http://www.w3.org/2000/svg\" height=\"24px\"viewBox=\"0 0 24 24\"\n",
              "       width=\"24px\">\n",
              "    <path d=\"M0 0h24v24H0V0z\" fill=\"none\"/>\n",
              "    <path d=\"M18.56 5.44l.94 2.06.94-2.06 2.06-.94-2.06-.94-.94-2.06-.94 2.06-2.06.94zm-11 1L8.5 8.5l.94-2.06 2.06-.94-2.06-.94L8.5 2.5l-.94 2.06-2.06.94zm10 10l.94 2.06.94-2.06 2.06-.94-2.06-.94-.94-2.06-.94 2.06-2.06.94z\"/><path d=\"M17.41 7.96l-1.37-1.37c-.4-.4-.92-.59-1.43-.59-.52 0-1.04.2-1.43.59L10.3 9.45l-7.72 7.72c-.78.78-.78 2.05 0 2.83L4 21.41c.39.39.9.59 1.41.59.51 0 1.02-.2 1.41-.59l7.78-7.78 2.81-2.81c.8-.78.8-2.07 0-2.86zM5.41 20L4 18.59l7.72-7.72 1.47 1.35L5.41 20z\"/>\n",
              "  </svg>\n",
              "      </button>\n",
              "      \n",
              "  <style>\n",
              "    .colab-df-container {\n",
              "      display:flex;\n",
              "      flex-wrap:wrap;\n",
              "      gap: 12px;\n",
              "    }\n",
              "\n",
              "    .colab-df-convert {\n",
              "      background-color: #E8F0FE;\n",
              "      border: none;\n",
              "      border-radius: 50%;\n",
              "      cursor: pointer;\n",
              "      display: none;\n",
              "      fill: #1967D2;\n",
              "      height: 32px;\n",
              "      padding: 0 0 0 0;\n",
              "      width: 32px;\n",
              "    }\n",
              "\n",
              "    .colab-df-convert:hover {\n",
              "      background-color: #E2EBFA;\n",
              "      box-shadow: 0px 1px 2px rgba(60, 64, 67, 0.3), 0px 1px 3px 1px rgba(60, 64, 67, 0.15);\n",
              "      fill: #174EA6;\n",
              "    }\n",
              "\n",
              "    [theme=dark] .colab-df-convert {\n",
              "      background-color: #3B4455;\n",
              "      fill: #D2E3FC;\n",
              "    }\n",
              "\n",
              "    [theme=dark] .colab-df-convert:hover {\n",
              "      background-color: #434B5C;\n",
              "      box-shadow: 0px 1px 3px 1px rgba(0, 0, 0, 0.15);\n",
              "      filter: drop-shadow(0px 1px 2px rgba(0, 0, 0, 0.3));\n",
              "      fill: #FFFFFF;\n",
              "    }\n",
              "  </style>\n",
              "\n",
              "      <script>\n",
              "        const buttonEl =\n",
              "          document.querySelector('#df-bb694e91-8f2f-48f1-9dca-e71f73f47606 button.colab-df-convert');\n",
              "        buttonEl.style.display =\n",
              "          google.colab.kernel.accessAllowed ? 'block' : 'none';\n",
              "\n",
              "        async function convertToInteractive(key) {\n",
              "          const element = document.querySelector('#df-bb694e91-8f2f-48f1-9dca-e71f73f47606');\n",
              "          const dataTable =\n",
              "            await google.colab.kernel.invokeFunction('convertToInteractive',\n",
              "                                                     [key], {});\n",
              "          if (!dataTable) return;\n",
              "\n",
              "          const docLinkHtml = 'Like what you see? Visit the ' +\n",
              "            '<a target=\"_blank\" href=https://colab.research.google.com/notebooks/data_table.ipynb>data table notebook</a>'\n",
              "            + ' to learn more about interactive tables.';\n",
              "          element.innerHTML = '';\n",
              "          dataTable['output_type'] = 'display_data';\n",
              "          await google.colab.output.renderOutput(dataTable, element);\n",
              "          const docLink = document.createElement('div');\n",
              "          docLink.innerHTML = docLinkHtml;\n",
              "          element.appendChild(docLink);\n",
              "        }\n",
              "      </script>\n",
              "    </div>\n",
              "  </div>\n",
              "  "
            ],
            "text/plain": [
              "                                                                                                                                                  Tweet  \\\n",
              "0                       .@wesley83 I have a 3G iPhone. After 3 hrs tweeting at #RISE_Austin, it was dead!  I need to upgrade. Plugin stations at #SXSW.   \n",
              "1           @jessedee Know about @fludapp ? Awesome iPad/iPhone app that you'll likely appreciate for its design. Also, they're giving free Ts at #SXSW   \n",
              "2                                                                       @swonderlin Can not wait for #iPad 2 also. They should sale them down at #SXSW.   \n",
              "3                                                                    @sxsw I hope this year's festival isn't as crashy as this year's iPhone app. #sxsw   \n",
              "4                   @sxtxstate great stuff on Fri #SXSW: Marissa Mayer (Google), Tim O'Reilly (tech books/conferences) &amp; Matt Mullenweg (Wordpress)   \n",
              "...                                                                                                                                                 ...   \n",
              "8692                                                @mention Yup, but I don't have a third app yet. I'm on Android, any suggestions? #SXSW CC: @mention   \n",
              "8693                                                                                                                      Ipad everywhere. #SXSW {link}   \n",
              "8694                      Wave, buzz... RT @mention We interrupt your regularly scheduled #sxsw geek programming with big news {link}  #google #circles   \n",
              "8695  Google's Zeiger, a physician never reported potential AE. Yet FDA relies on physicians. &quot;We're operating w/out data.&quot; #sxsw #health2dev   \n",
              "8696       Some Verizon iPhone customers complained their time fell back an hour this weekend.  Of course they were the New Yorkers who attended #SXSW.   \n",
              "\n",
              "                 Product         Sentiment   Brand  \n",
              "0                 iPhone  Negative emotion   Apple  \n",
              "1     iPad or iPhone App  Positive emotion   Apple  \n",
              "2                   iPad  Positive emotion   Apple  \n",
              "3     iPad or iPhone App  Negative emotion   Apple  \n",
              "4                 Google  Positive emotion  Google  \n",
              "...                  ...               ...     ...  \n",
              "8692           Undefined        No emotion  Google  \n",
              "8693                iPad  Positive emotion   Apple  \n",
              "8694           Undefined        No emotion  Google  \n",
              "8695           Undefined        No emotion  Google  \n",
              "8696           Undefined        No emotion   Apple  \n",
              "\n",
              "[8697 rows x 4 columns]"
            ]
          },
          "execution_count": 189,
          "metadata": {},
          "output_type": "execute_result"
        }
      ],
      "source": [
        "#Final DataFrame before Preprocessing\n",
        "data"
      ]
    },
    {
      "cell_type": "markdown",
      "metadata": {
        "id": "-si4CJp6ayTF"
      },
      "source": [
        "## 4. DATA PREPROCESSING AND FEATURE ENGINEERING\n",
        "\n",
        "In this phase of the project, we will get to preprocess our data and prepare the text data for modeling by performing the tasks below.\n",
        "\n",
        "use regular expression to remove:\n",
        "- twitter handle\n",
        "- links\n",
        "- hash tags\n",
        "- RT\n",
        "- punctuations\n",
        "\n",
        "remove\n",
        "- stopwords\n",
        "- lowercase\n",
        "- numbers\n",
        "\n",
        "tokenization\n",
        "\n",
        "lemmatization\n",
        "\n",
        "vectorization\n",
        "- count\n",
        "\n",
        "visualization\n",
        "- frequency distribution(FreqDist)\n",
        "- Word Cloud"
      ]
    },
    {
      "cell_type": "markdown",
      "metadata": {
        "id": "_wVfDg2JayTG"
      },
      "source": [
        "First we will start by using regular expression in cleaning the text data stored in 'tweets' column by removing punctuations, links, retweets etc."
      ]
    },
    {
      "cell_type": "code",
      "execution_count": null,
      "metadata": {
        "id": "RKWAqBc5ayTH"
      },
      "outputs": [],
      "source": [
        "# Use regular expression to clean out the hash tags, links and punctuations from our tweet\n",
        "\n",
        "def strip_links(text):\n",
        "    \"\"\"\n",
        "    Remove links from our text\n",
        "    \"\"\"\n",
        "    link_regex = re.compile('((https?):((//)|(\\\\\\\\))+([\\w\\d:#@%/;$()~_?\\+-=\\\\\\.&](#!)?)*)', re.DOTALL)\n",
        "    links = re.findall(link_regex, text)\n",
        "    for link in links:\n",
        "        text = text.replace(link[0], ', ')    \n",
        "    return text\n",
        "\n",
        "    \n",
        "\n",
        "def strip_all_entities(text):\n",
        "    \"\"\"\n",
        "    Remove user handles, hashtags and punctuations from our text\n",
        "    \"\"\"\n",
        "    entity_prefixes = ['@','#']\n",
        "    for separator in  string.punctuation:\n",
        "        if separator not in entity_prefixes :\n",
        "            text = text.replace(separator,' ')\n",
        "    words = []\n",
        "    for word in text.split():\n",
        "        word = word.strip()\n",
        "        if word:\n",
        "            if word[0] not in entity_prefixes:\n",
        "                words.append(word)\n",
        "    return ' '.join(words)"
      ]
    },
    {
      "cell_type": "markdown",
      "metadata": {
        "id": "MUz9kyGxayTH"
      },
      "source": [
        "we will use the our two functions together  with the map() function to remove the links, tags and user handles from the tweets"
      ]
    },
    {
      "cell_type": "code",
      "execution_count": null,
      "metadata": {
        "id": "6Lw_ZYkCayTH"
      },
      "outputs": [],
      "source": [
        "# map the functions onto the data set\n",
        "data['Tweet'] = data.Tweet.map(lambda x: strip_all_entities(strip_links(x)))"
      ]
    },
    {
      "cell_type": "code",
      "execution_count": null,
      "metadata": {
        "colab": {
          "base_uri": "https://localhost:8080/"
        },
        "id": "wVDbg0WVayTI",
        "outputId": "f4476fb4-130d-4fcf-f3e9-690755dab539"
      },
      "outputs": [
        {
          "data": {
            "text/plain": [
              "0                                        I have a 3G iPhone After 3 hrs tweeting at Austin it was dead I need to upgrade Plugin stations at\n",
              "1                            Know about Awesome iPad iPhone app that you ll likely appreciate for its design Also they re giving free Ts at\n",
              "2                                                                                     Can not wait for 2 also They should sale them down at\n",
              "3                                                                     I hope this year s festival isn t as crashy as this year s iPhone app\n",
              "4                                  great stuff on Fri Marissa Mayer Google Tim O Reilly tech books conferences amp Matt Mullenweg Wordpress\n",
              "                                                                       ...                                                                 \n",
              "8692                                                                 Yup but I don t have a third app yet I m on Android any suggestions CC\n",
              "8693                                                                                                                   Ipad everywhere link\n",
              "8694                                                 Wave buzz RT We interrupt your regularly scheduled geek programming with big news link\n",
              "8695              Google s Zeiger a physician never reported potential AE Yet FDA relies on physicians quot We re operating w out data quot\n",
              "8696    Some Verizon iPhone customers complained their time fell back an hour this weekend Of course they were the New Yorkers who attended\n",
              "Name: Tweet, Length: 8697, dtype: object"
            ]
          },
          "execution_count": 192,
          "metadata": {},
          "output_type": "execute_result"
        }
      ],
      "source": [
        "# load the data set\n",
        "data.Tweet"
      ]
    },
    {
      "cell_type": "markdown",
      "metadata": {
        "id": "KNtl-Y4RayTI"
      },
      "source": [
        "\n",
        "Our function has been able to remove the handle, links and hashtags, but from row 8694, we can still see retweets present in our data, represented by the word RT. Because this is a major feature on twitter, it is bound to appear a lot, and thus should be removed as well.\n",
        "\n",
        "Below, we will write a regular xpression to get rid of the RT from our data as well as the term ' link' that were used as placeholders for the links url. We'll also remove the @  and � characters that were still present in the text column together with mention."
      ]
    },
    {
      "cell_type": "code",
      "execution_count": null,
      "metadata": {
        "colab": {
          "base_uri": "https://localhost:8080/"
        },
        "id": "AS0wv7oUayTI",
        "outputId": "8281924e-deb7-4804-c2a6-55b40385e945"
      },
      "outputs": [
        {
          "data": {
            "text/plain": [
              "0                                        I have a 3G iPhone After 3 hrs tweeting at Austin it was dead I need to upgrade Plugin stations at\n",
              "1                            Know about Awesome iPad iPhone app that you ll likely appreciate for its design Also they re giving free Ts at\n",
              "2                                                                                     Can not wait for 2 also They should sale them down at\n",
              "3                                                                     I hope this year s festival isn t as crashy as this year s iPhone app\n",
              "4                                  great stuff on Fri Marissa Mayer Google Tim O Reilly tech books conferences amp Matt Mullenweg Wordpress\n",
              "                                                                       ...                                                                 \n",
              "8692                                                                 Yup but I don t have a third app yet I m on Android any suggestions CC\n",
              "8693                                                                                                                      Ipad everywhere  \n",
              "8694                                                     Wave buzz   We interrupt your regularly scheduled geek programming with big news  \n",
              "8695              Google s Zeiger a physician never reported potential AE Yet FDA relies on physicians quot We re operating w out data quot\n",
              "8696    Some Verizon iPhone customers complained their time fell back an hour this weekend Of course they were the New Yorkers who attended\n",
              "Name: Tweet, Length: 8697, dtype: object"
            ]
          },
          "execution_count": 193,
          "metadata": {},
          "output_type": "execute_result"
        }
      ],
      "source": [
        "data['Tweet'] = data.Tweet.map(lambda x: re.sub('RT', \" \", x)) # Remove RT (retweet)\n",
        "data['Tweet'] = data.Tweet.map(lambda x: re.sub('link', \" \", x))# Remove link\n",
        "data['Tweet'] = data.Tweet.map(lambda x: re.sub('@', \" \", x)) # Remove @\n",
        "data['Tweet'] = data.Tweet.map(lambda x: re.sub('mention', \" \", x)) # Remove mention \n",
        "data['Tweet'] = data.Tweet.map(lambda x: re.sub('�+', \" \", x)) # remove � character\n",
        "\n",
        "# load the cleaned text data\n",
        "data.Tweet"
      ]
    },
    {
      "cell_type": "markdown",
      "metadata": {
        "id": "tOzWoiULayTJ"
      },
      "source": [
        "Now that we have that done and dusted. Let's remove the stopwords from our data set, ensure the words are in lower case, and then tokenize our dataset."
      ]
    },
    {
      "cell_type": "code",
      "execution_count": null,
      "metadata": {
        "id": "CakIIw4HayTJ"
      },
      "outputs": [],
      "source": [
        "# create a word tokenize\n",
        "def tokenize_data(text):\n",
        "    \"\"\"\n",
        "    A function responsible for tokenizing our sentences\n",
        "    \"\"\"\n",
        "    # tokenize the data\n",
        "    tokens = word_tokenize(text)\n",
        "\n",
        "    # create our stopwords\n",
        "    stopwords_list = stopwords.words('english')\n",
        "    stopwords_list += [str(x) for x in range(100)]\n",
        "\n",
        "    # convert everything to lowercase\n",
        "    clean_list = [word.lower() for word in tokens if word.lower() not in stopwords_list]\n",
        "\n",
        "    return clean_list"
      ]
    },
    {
      "cell_type": "markdown",
      "source": [
        "Next, map the function above onto our text column."
      ],
      "metadata": {
        "id": "7NzYFQQuiF2y"
      }
    },
    {
      "cell_type": "code",
      "execution_count": null,
      "metadata": {
        "colab": {
          "base_uri": "https://localhost:8080/"
        },
        "id": "5h2J7lS-ayTJ",
        "outputId": "cae53696-5a5c-49a5-95e5-abaf06978cf1"
      },
      "outputs": [
        {
          "data": {
            "text/plain": [
              "0                                                      [3g, iphone, hrs, tweeting, austin, dead, need, upgrade, plugin, stations]\n",
              "1                                          [know, awesome, ipad, iphone, app, likely, appreciate, design, also, giving, free, ts]\n",
              "2                                                                                                              [wait, also, sale]\n",
              "3                                                                               [hope, year, festival, crashy, year, iphone, app]\n",
              "4             [great, stuff, fri, marissa, mayer, google, tim, reilly, tech, books, conferences, amp, matt, mullenweg, wordpress]\n",
              "                                                                  ...                                                            \n",
              "8692                                                                             [yup, third, app, yet, android, suggestions, cc]\n",
              "8693                                                                                                           [ipad, everywhere]\n",
              "8694                                                  [wave, buzz, interrupt, regularly, scheduled, geek, programming, big, news]\n",
              "8695    [google, zeiger, physician, never, reported, potential, ae, yet, fda, relies, physicians, quot, operating, w, data, quot]\n",
              "8696                    [verizon, iphone, customers, complained, time, fell, back, hour, weekend, course, new, yorkers, attended]\n",
              "Name: Tweet, Length: 8697, dtype: object"
            ]
          },
          "execution_count": 195,
          "metadata": {},
          "output_type": "execute_result"
        }
      ],
      "source": [
        "# map the function above onto the tweet column\n",
        "data['Tweet'] = data.Tweet.map(lambda x: tokenize_data(x))\n",
        "\n",
        "# load the tokenized column\n",
        "data.Tweet"
      ]
    },
    {
      "cell_type": "markdown",
      "metadata": {
        "id": "ZMM4z_brayTJ"
      },
      "source": [
        "Below, i will load the dataset after cleaning and tokenizing."
      ]
    },
    {
      "cell_type": "code",
      "execution_count": null,
      "metadata": {
        "colab": {
          "base_uri": "https://localhost:8080/",
          "height": 467
        },
        "id": "uasBQj3CayTK",
        "outputId": "860074be-0af3-4d28-c093-bfb48f33e366"
      },
      "outputs": [
        {
          "data": {
            "text/html": [
              "\n",
              "  <div id=\"df-6742a17d-3704-44bf-b54b-73b0e10158f3\">\n",
              "    <div class=\"colab-df-container\">\n",
              "      <div>\n",
              "<style scoped>\n",
              "    .dataframe tbody tr th:only-of-type {\n",
              "        vertical-align: middle;\n",
              "    }\n",
              "\n",
              "    .dataframe tbody tr th {\n",
              "        vertical-align: top;\n",
              "    }\n",
              "\n",
              "    .dataframe thead th {\n",
              "        text-align: right;\n",
              "    }\n",
              "</style>\n",
              "<table border=\"1\" class=\"dataframe\">\n",
              "  <thead>\n",
              "    <tr style=\"text-align: right;\">\n",
              "      <th></th>\n",
              "      <th>Tweet</th>\n",
              "      <th>Product</th>\n",
              "      <th>Sentiment</th>\n",
              "      <th>Brand</th>\n",
              "    </tr>\n",
              "  </thead>\n",
              "  <tbody>\n",
              "    <tr>\n",
              "      <th>0</th>\n",
              "      <td>[3g, iphone, hrs, tweeting, austin, dead, need, upgrade, plugin, stations]</td>\n",
              "      <td>iPhone</td>\n",
              "      <td>Negative emotion</td>\n",
              "      <td>Apple</td>\n",
              "    </tr>\n",
              "    <tr>\n",
              "      <th>1</th>\n",
              "      <td>[know, awesome, ipad, iphone, app, likely, appreciate, design, also, giving, free, ts]</td>\n",
              "      <td>iPad or iPhone App</td>\n",
              "      <td>Positive emotion</td>\n",
              "      <td>Apple</td>\n",
              "    </tr>\n",
              "    <tr>\n",
              "      <th>2</th>\n",
              "      <td>[wait, also, sale]</td>\n",
              "      <td>iPad</td>\n",
              "      <td>Positive emotion</td>\n",
              "      <td>Apple</td>\n",
              "    </tr>\n",
              "    <tr>\n",
              "      <th>3</th>\n",
              "      <td>[hope, year, festival, crashy, year, iphone, app]</td>\n",
              "      <td>iPad or iPhone App</td>\n",
              "      <td>Negative emotion</td>\n",
              "      <td>Apple</td>\n",
              "    </tr>\n",
              "    <tr>\n",
              "      <th>4</th>\n",
              "      <td>[great, stuff, fri, marissa, mayer, google, tim, reilly, tech, books, conferences, amp, matt, mullenweg, wordpress]</td>\n",
              "      <td>Google</td>\n",
              "      <td>Positive emotion</td>\n",
              "      <td>Google</td>\n",
              "    </tr>\n",
              "    <tr>\n",
              "      <th>...</th>\n",
              "      <td>...</td>\n",
              "      <td>...</td>\n",
              "      <td>...</td>\n",
              "      <td>...</td>\n",
              "    </tr>\n",
              "    <tr>\n",
              "      <th>8692</th>\n",
              "      <td>[yup, third, app, yet, android, suggestions, cc]</td>\n",
              "      <td>Undefined</td>\n",
              "      <td>No emotion</td>\n",
              "      <td>Google</td>\n",
              "    </tr>\n",
              "    <tr>\n",
              "      <th>8693</th>\n",
              "      <td>[ipad, everywhere]</td>\n",
              "      <td>iPad</td>\n",
              "      <td>Positive emotion</td>\n",
              "      <td>Apple</td>\n",
              "    </tr>\n",
              "    <tr>\n",
              "      <th>8694</th>\n",
              "      <td>[wave, buzz, interrupt, regularly, scheduled, geek, programming, big, news]</td>\n",
              "      <td>Undefined</td>\n",
              "      <td>No emotion</td>\n",
              "      <td>Google</td>\n",
              "    </tr>\n",
              "    <tr>\n",
              "      <th>8695</th>\n",
              "      <td>[google, zeiger, physician, never, reported, potential, ae, yet, fda, relies, physicians, quot, operating, w, data, quot]</td>\n",
              "      <td>Undefined</td>\n",
              "      <td>No emotion</td>\n",
              "      <td>Google</td>\n",
              "    </tr>\n",
              "    <tr>\n",
              "      <th>8696</th>\n",
              "      <td>[verizon, iphone, customers, complained, time, fell, back, hour, weekend, course, new, yorkers, attended]</td>\n",
              "      <td>Undefined</td>\n",
              "      <td>No emotion</td>\n",
              "      <td>Apple</td>\n",
              "    </tr>\n",
              "  </tbody>\n",
              "</table>\n",
              "<p>8697 rows × 4 columns</p>\n",
              "</div>\n",
              "      <button class=\"colab-df-convert\" onclick=\"convertToInteractive('df-6742a17d-3704-44bf-b54b-73b0e10158f3')\"\n",
              "              title=\"Convert this dataframe to an interactive table.\"\n",
              "              style=\"display:none;\">\n",
              "        \n",
              "  <svg xmlns=\"http://www.w3.org/2000/svg\" height=\"24px\"viewBox=\"0 0 24 24\"\n",
              "       width=\"24px\">\n",
              "    <path d=\"M0 0h24v24H0V0z\" fill=\"none\"/>\n",
              "    <path d=\"M18.56 5.44l.94 2.06.94-2.06 2.06-.94-2.06-.94-.94-2.06-.94 2.06-2.06.94zm-11 1L8.5 8.5l.94-2.06 2.06-.94-2.06-.94L8.5 2.5l-.94 2.06-2.06.94zm10 10l.94 2.06.94-2.06 2.06-.94-2.06-.94-.94-2.06-.94 2.06-2.06.94z\"/><path d=\"M17.41 7.96l-1.37-1.37c-.4-.4-.92-.59-1.43-.59-.52 0-1.04.2-1.43.59L10.3 9.45l-7.72 7.72c-.78.78-.78 2.05 0 2.83L4 21.41c.39.39.9.59 1.41.59.51 0 1.02-.2 1.41-.59l7.78-7.78 2.81-2.81c.8-.78.8-2.07 0-2.86zM5.41 20L4 18.59l7.72-7.72 1.47 1.35L5.41 20z\"/>\n",
              "  </svg>\n",
              "      </button>\n",
              "      \n",
              "  <style>\n",
              "    .colab-df-container {\n",
              "      display:flex;\n",
              "      flex-wrap:wrap;\n",
              "      gap: 12px;\n",
              "    }\n",
              "\n",
              "    .colab-df-convert {\n",
              "      background-color: #E8F0FE;\n",
              "      border: none;\n",
              "      border-radius: 50%;\n",
              "      cursor: pointer;\n",
              "      display: none;\n",
              "      fill: #1967D2;\n",
              "      height: 32px;\n",
              "      padding: 0 0 0 0;\n",
              "      width: 32px;\n",
              "    }\n",
              "\n",
              "    .colab-df-convert:hover {\n",
              "      background-color: #E2EBFA;\n",
              "      box-shadow: 0px 1px 2px rgba(60, 64, 67, 0.3), 0px 1px 3px 1px rgba(60, 64, 67, 0.15);\n",
              "      fill: #174EA6;\n",
              "    }\n",
              "\n",
              "    [theme=dark] .colab-df-convert {\n",
              "      background-color: #3B4455;\n",
              "      fill: #D2E3FC;\n",
              "    }\n",
              "\n",
              "    [theme=dark] .colab-df-convert:hover {\n",
              "      background-color: #434B5C;\n",
              "      box-shadow: 0px 1px 3px 1px rgba(0, 0, 0, 0.15);\n",
              "      filter: drop-shadow(0px 1px 2px rgba(0, 0, 0, 0.3));\n",
              "      fill: #FFFFFF;\n",
              "    }\n",
              "  </style>\n",
              "\n",
              "      <script>\n",
              "        const buttonEl =\n",
              "          document.querySelector('#df-6742a17d-3704-44bf-b54b-73b0e10158f3 button.colab-df-convert');\n",
              "        buttonEl.style.display =\n",
              "          google.colab.kernel.accessAllowed ? 'block' : 'none';\n",
              "\n",
              "        async function convertToInteractive(key) {\n",
              "          const element = document.querySelector('#df-6742a17d-3704-44bf-b54b-73b0e10158f3');\n",
              "          const dataTable =\n",
              "            await google.colab.kernel.invokeFunction('convertToInteractive',\n",
              "                                                     [key], {});\n",
              "          if (!dataTable) return;\n",
              "\n",
              "          const docLinkHtml = 'Like what you see? Visit the ' +\n",
              "            '<a target=\"_blank\" href=https://colab.research.google.com/notebooks/data_table.ipynb>data table notebook</a>'\n",
              "            + ' to learn more about interactive tables.';\n",
              "          element.innerHTML = '';\n",
              "          dataTable['output_type'] = 'display_data';\n",
              "          await google.colab.output.renderOutput(dataTable, element);\n",
              "          const docLink = document.createElement('div');\n",
              "          docLink.innerHTML = docLinkHtml;\n",
              "          element.appendChild(docLink);\n",
              "        }\n",
              "      </script>\n",
              "    </div>\n",
              "  </div>\n",
              "  "
            ],
            "text/plain": [
              "                                                                                                                          Tweet  \\\n",
              "0                                                    [3g, iphone, hrs, tweeting, austin, dead, need, upgrade, plugin, stations]   \n",
              "1                                        [know, awesome, ipad, iphone, app, likely, appreciate, design, also, giving, free, ts]   \n",
              "2                                                                                                            [wait, also, sale]   \n",
              "3                                                                             [hope, year, festival, crashy, year, iphone, app]   \n",
              "4           [great, stuff, fri, marissa, mayer, google, tim, reilly, tech, books, conferences, amp, matt, mullenweg, wordpress]   \n",
              "...                                                                                                                         ...   \n",
              "8692                                                                           [yup, third, app, yet, android, suggestions, cc]   \n",
              "8693                                                                                                         [ipad, everywhere]   \n",
              "8694                                                [wave, buzz, interrupt, regularly, scheduled, geek, programming, big, news]   \n",
              "8695  [google, zeiger, physician, never, reported, potential, ae, yet, fda, relies, physicians, quot, operating, w, data, quot]   \n",
              "8696                  [verizon, iphone, customers, complained, time, fell, back, hour, weekend, course, new, yorkers, attended]   \n",
              "\n",
              "                 Product         Sentiment   Brand  \n",
              "0                 iPhone  Negative emotion   Apple  \n",
              "1     iPad or iPhone App  Positive emotion   Apple  \n",
              "2                   iPad  Positive emotion   Apple  \n",
              "3     iPad or iPhone App  Negative emotion   Apple  \n",
              "4                 Google  Positive emotion  Google  \n",
              "...                  ...               ...     ...  \n",
              "8692           Undefined        No emotion  Google  \n",
              "8693                iPad  Positive emotion   Apple  \n",
              "8694           Undefined        No emotion  Google  \n",
              "8695           Undefined        No emotion  Google  \n",
              "8696           Undefined        No emotion   Apple  \n",
              "\n",
              "[8697 rows x 4 columns]"
            ]
          },
          "execution_count": 196,
          "metadata": {},
          "output_type": "execute_result"
        }
      ],
      "source": [
        "# load the cleaned data\n",
        "data"
      ]
    },
    {
      "cell_type": "markdown",
      "metadata": {
        "id": "wuS_vE17ayTK"
      },
      "source": [
        "After cleaning and tokenizing our data, the next step in our text preparation will be lemmatization. Lemmatization helps in transforming the text data by removing the suffixes of our data. Since lemmatizing uses part-of-speech tagging to determine how to transform a word, we'll need to incoperate word net in the lammetization."
      ]
    },
    {
      "cell_type": "markdown",
      "metadata": {
        "id": "pkJdAQNxayTK"
      },
      "source": [
        "Based on this below, i will create a function that converts the nltk parts-of-speech to wordnet tags. basically inputs the nltk pos tags and outputs the wordnet lemmatizer tags that can be interpretted by out lemmatizier"
      ]
    },
    {
      "cell_type": "code",
      "source": [
        "# from nltk download averaged_perceptron_tagger\n",
        "nltk.download('averaged_perceptron_tagger', quiet=True)"
      ],
      "metadata": {
        "id": "qT-_5eCTidEi"
      },
      "execution_count": null,
      "outputs": []
    },
    {
      "cell_type": "code",
      "source": [
        "# from nltk download tagsets\n",
        "nltk.download('tagsets', quiet=True)"
      ],
      "metadata": {
        "id": "b5_DPCGqiilv"
      },
      "execution_count": null,
      "outputs": []
    },
    {
      "cell_type": "code",
      "source": [
        "# create a function that takes in the nltk POS tags and transforms them to wordnet tags\n",
        "def wordnet_pos(word_tag):\n",
        "    '''\n",
        "    Translate nltk POS to wordnet tags\n",
        "    '''\n",
        "    if word_tag.startswith('J'):\n",
        "        return wordnet.ADJ\n",
        "    elif word_tag.startswith('V'):\n",
        "        return wordnet.VERB\n",
        "    elif word_tag.startswith('N'):\n",
        "        return wordnet.NOUN\n",
        "    elif word_tag.startswith('R'):\n",
        "        return wordnet.ADV\n",
        "    else:\n",
        "        return wordnet.NOUN"
      ],
      "metadata": {
        "id": "Zq9Iye3DioLB"
      },
      "execution_count": null,
      "outputs": []
    },
    {
      "cell_type": "markdown",
      "source": [
        "Below i will index out the first tweet, then perform POS tagging on the indexed tweet."
      ],
      "metadata": {
        "id": "C8VXJNmXitga"
      }
    },
    {
      "cell_type": "code",
      "source": [
        "# Index the first tweet in the tweet column\n",
        "first_tweet = data['Tweet'][0]\n",
        "first_tweet"
      ],
      "metadata": {
        "id": "JCXm01CCitJR"
      },
      "execution_count": null,
      "outputs": []
    },
    {
      "cell_type": "code",
      "source": [
        "# Get the POS tags for the words in first_tweet\n",
        "first_tweet = pos_tag(first_tweet)\n",
        "first_tweet"
      ],
      "metadata": {
        "id": "LKZm10iuiyPS"
      },
      "execution_count": null,
      "outputs": []
    },
    {
      "cell_type": "markdown",
      "source": [
        "Based on the output above, we have have successfully gotten the the pos tags where the terms starting with N represent the nouns, J represents the adjective, V represents the verbs"
      ],
      "metadata": {
        "id": "ICoJunhui5ll"
      }
    },
    {
      "cell_type": "markdown",
      "source": [
        "Next, we will instantiate the lemmatizer and create a variable X that contains the data from  the tweet column."
      ],
      "metadata": {
        "id": "veWM7Jo6i7ka"
      }
    },
    {
      "cell_type": "code",
      "execution_count": null,
      "metadata": {
        "id": "_92FXkQvayTM"
      },
      "outputs": [],
      "source": [
        " # inastantiate the lemmatizer\n",
        "lemmatizer = WordNetLemmatizer() "
      ]
    },
    {
      "cell_type": "code",
      "source": [
        "# create a variable X containing data from tweet column\n",
        "X = data['Tweet']\n",
        "X"
      ],
      "metadata": {
        "id": "qYkl_y_XjAq3"
      },
      "execution_count": null,
      "outputs": []
    },
    {
      "cell_type": "markdown",
      "source": [
        "In the code cell below, we will create a function that takes in the text from the variable X, gets the Pos tags of the text, then uses the wordnet_pos function above to get the wordnet tags that are then passed on to our lemmatizer."
      ],
      "metadata": {
        "id": "COowDRyYjLUZ"
      }
    },
    {
      "cell_type": "code",
      "source": [
        "def word_lemma(text):\n",
        "    '''\n",
        "    Translate the text POS tags to Word net tags then pass it to the lemmatizer\n",
        "    \n",
        "    '''\n",
        "    # get the pos tags for the text\n",
        "    word_pos_tags = pos_tag(text)\n",
        "    \n",
        "    # translate the pos tags to word net tags\n",
        "    word_net_tag = [(text[0], wordnet_pos(text[1])) for text in word_pos_tags]\n",
        "    \n",
        "    # Pass the text with the wordnet tags to the lemmatizer\n",
        "    lemma_word = [lemmatizer.lemmatize(text[0], text[1]) for text in word_net_tag]\n",
        "    \n",
        "    return lemma_word\n",
        "    "
      ],
      "metadata": {
        "id": "Yya5gifEjFUV"
      },
      "execution_count": null,
      "outputs": []
    },
    {
      "cell_type": "markdown",
      "source": [
        "Map the function created above onto the X variable created above."
      ],
      "metadata": {
        "id": "_8u_AZMwjUi0"
      }
    },
    {
      "cell_type": "code",
      "source": [
        "# map the function above\n",
        "data['Tweet'] = X.map(lambda x: word_lemma(x))\n"
      ],
      "metadata": {
        "id": "FF962n13jTuO"
      },
      "execution_count": null,
      "outputs": []
    },
    {
      "cell_type": "code",
      "source": [
        "# load the lemmatized tweet column\n",
        "data['Tweet']"
      ],
      "metadata": {
        "id": "vc9Z1LV4jcSH"
      },
      "execution_count": null,
      "outputs": []
    },
    {
      "cell_type": "markdown",
      "metadata": {
        "id": "tm1nqhIbayTN"
      },
      "source": [
        "### Plot a Frequency Distribution "
      ]
    },
    {
      "cell_type": "markdown",
      "source": [
        "We will create a frequency distribution plot that shows the words that appear in the tweet columns together with the count."
      ],
      "metadata": {
        "id": "cg35Sdkijegl"
      }
    },
    {
      "cell_type": "code",
      "execution_count": null,
      "metadata": {
        "colab": {
          "base_uri": "https://localhost:8080/",
          "height": 648
        },
        "id": "vxCb6PMKayTO",
        "outputId": "a9bbfabe-87d2-4e16-c0a1-3d89a920feeb",
        "scrolled": false
      },
      "outputs": [
        {
          "data": {
            "image/png": "[encoded data removed]",
            "text/plain": [
              "<Figure size 1080x720 with 1 Axes>"
            ]
          },
          "metadata": {
            "needs_background": "light"
          },
          "output_type": "display_data"
        }
      ],
      "source": [
        "sample = data['Tweet']\n",
        "freq1_dist = []\n",
        "\n",
        "for tweet in sample:\n",
        "    freq1_dist.extend(tweet)\n",
        "    \n",
        "fdist = FreqDist(freq1_dist)\n",
        "plt.figure(figsize=(15, 10))\n",
        "fdist.plot(50);"
      ]
    },
    {
      "cell_type": "markdown",
      "source": [
        "Based on the output, we can see that google is the word with the highest count within the text data followed by ipad and apple. Below, i wil use the fdist() method to get the actual count of the first 200 words, it will also help in checking if there are any anomalies in the text."
      ],
      "metadata": {
        "id": "9mjcU5yLjn3z"
      }
    },
    {
      "cell_type": "code",
      "source": [
        "# display the count of the first 200 texts\n",
        "word_frequency = fdist.most_common(200)\n",
        "word_frequency[:30]"
      ],
      "metadata": {
        "id": "wdCgU7QRj1kf"
      },
      "execution_count": null,
      "outputs": []
    },
    {
      "cell_type": "code",
      "execution_count": null,
      "metadata": {
        "id": "EZ23rQAJ8Unf"
      },
      "outputs": [],
      "source": [
        "data1 = data.copy()"
      ]
    },
    {
      "cell_type": "code",
      "execution_count": null,
      "metadata": {
        "colab": {
          "base_uri": "https://localhost:8080/",
          "height": 423
        },
        "id": "z4oZ-CIeayTO",
        "outputId": "0c74523b-0581-4943-b574-8654857ead08",
        "scrolled": true
      },
      "outputs": [
        {
          "data": {
            "text/html": [
              "\n",
              "  <div id=\"df-4c92e39d-8d7e-44e3-bb30-c83539af06db\">\n",
              "    <div class=\"colab-df-container\">\n",
              "      <div>\n",
              "<style scoped>\n",
              "    .dataframe tbody tr th:only-of-type {\n",
              "        vertical-align: middle;\n",
              "    }\n",
              "\n",
              "    .dataframe tbody tr th {\n",
              "        vertical-align: top;\n",
              "    }\n",
              "\n",
              "    .dataframe thead th {\n",
              "        text-align: right;\n",
              "    }\n",
              "</style>\n",
              "<table border=\"1\" class=\"dataframe\">\n",
              "  <thead>\n",
              "    <tr style=\"text-align: right;\">\n",
              "      <th></th>\n",
              "      <th>Tweet</th>\n",
              "      <th>Product</th>\n",
              "      <th>Sentiment</th>\n",
              "      <th>Brand</th>\n",
              "    </tr>\n",
              "  </thead>\n",
              "  <tbody>\n",
              "    <tr>\n",
              "      <th>0</th>\n",
              "      <td>[3g, iphone, hr, tweet, austin, dead, need, upgrade, plugin, station]</td>\n",
              "      <td>iPhone</td>\n",
              "      <td>Negative emotion</td>\n",
              "      <td>Apple</td>\n",
              "    </tr>\n",
              "    <tr>\n",
              "      <th>1</th>\n",
              "      <td>[know, awesome, ipad, iphone, app, likely, appreciate, design, also, give, free, t]</td>\n",
              "      <td>iPad or iPhone App</td>\n",
              "      <td>Positive emotion</td>\n",
              "      <td>Apple</td>\n",
              "    </tr>\n",
              "    <tr>\n",
              "      <th>2</th>\n",
              "      <td>[wait, also, sale]</td>\n",
              "      <td>iPad</td>\n",
              "      <td>Positive emotion</td>\n",
              "      <td>Apple</td>\n",
              "    </tr>\n",
              "    <tr>\n",
              "      <th>3</th>\n",
              "      <td>[hope, year, festival, crashy, year, iphone, app]</td>\n",
              "      <td>iPad or iPhone App</td>\n",
              "      <td>Negative emotion</td>\n",
              "      <td>Apple</td>\n",
              "    </tr>\n",
              "    <tr>\n",
              "      <th>4</th>\n",
              "      <td>[great, stuff, fri, marissa, mayer, google, tim, reilly, tech, book, conference, amp, matt, mullenweg, wordpress]</td>\n",
              "      <td>Google</td>\n",
              "      <td>Positive emotion</td>\n",
              "      <td>Google</td>\n",
              "    </tr>\n",
              "    <tr>\n",
              "      <th>...</th>\n",
              "      <td>...</td>\n",
              "      <td>...</td>\n",
              "      <td>...</td>\n",
              "      <td>...</td>\n",
              "    </tr>\n",
              "    <tr>\n",
              "      <th>8692</th>\n",
              "      <td>[yup, third, app, yet, android, suggestion, cc]</td>\n",
              "      <td>Undefined</td>\n",
              "      <td>No emotion</td>\n",
              "      <td>Google</td>\n",
              "    </tr>\n",
              "    <tr>\n",
              "      <th>8693</th>\n",
              "      <td>[ipad, everywhere]</td>\n",
              "      <td>iPad</td>\n",
              "      <td>Positive emotion</td>\n",
              "      <td>Apple</td>\n",
              "    </tr>\n",
              "    <tr>\n",
              "      <th>8694</th>\n",
              "      <td>[wave, buzz, interrupt, regularly, schedule, geek, program, big, news]</td>\n",
              "      <td>Undefined</td>\n",
              "      <td>No emotion</td>\n",
              "      <td>Google</td>\n",
              "    </tr>\n",
              "    <tr>\n",
              "      <th>8695</th>\n",
              "      <td>[google, zeiger, physician, never, report, potential, ae, yet, fda, relies, physicians, quot, operate, w, data, quot]</td>\n",
              "      <td>Undefined</td>\n",
              "      <td>No emotion</td>\n",
              "      <td>Google</td>\n",
              "    </tr>\n",
              "    <tr>\n",
              "      <th>8696</th>\n",
              "      <td>[verizon, iphone, customer, complain, time, fell, back, hour, weekend, course, new, yorkers, attend]</td>\n",
              "      <td>Undefined</td>\n",
              "      <td>No emotion</td>\n",
              "      <td>Apple</td>\n",
              "    </tr>\n",
              "  </tbody>\n",
              "</table>\n",
              "<p>8697 rows × 4 columns</p>\n",
              "</div>\n",
              "      <button class=\"colab-df-convert\" onclick=\"convertToInteractive('df-4c92e39d-8d7e-44e3-bb30-c83539af06db')\"\n",
              "              title=\"Convert this dataframe to an interactive table.\"\n",
              "              style=\"display:none;\">\n",
              "        \n",
              "  <svg xmlns=\"http://www.w3.org/2000/svg\" height=\"24px\"viewBox=\"0 0 24 24\"\n",
              "       width=\"24px\">\n",
              "    <path d=\"M0 0h24v24H0V0z\" fill=\"none\"/>\n",
              "    <path d=\"M18.56 5.44l.94 2.06.94-2.06 2.06-.94-2.06-.94-.94-2.06-.94 2.06-2.06.94zm-11 1L8.5 8.5l.94-2.06 2.06-.94-2.06-.94L8.5 2.5l-.94 2.06-2.06.94zm10 10l.94 2.06.94-2.06 2.06-.94-2.06-.94-.94-2.06-.94 2.06-2.06.94z\"/><path d=\"M17.41 7.96l-1.37-1.37c-.4-.4-.92-.59-1.43-.59-.52 0-1.04.2-1.43.59L10.3 9.45l-7.72 7.72c-.78.78-.78 2.05 0 2.83L4 21.41c.39.39.9.59 1.41.59.51 0 1.02-.2 1.41-.59l7.78-7.78 2.81-2.81c.8-.78.8-2.07 0-2.86zM5.41 20L4 18.59l7.72-7.72 1.47 1.35L5.41 20z\"/>\n",
              "  </svg>\n",
              "      </button>\n",
              "      \n",
              "  <style>\n",
              "    .colab-df-container {\n",
              "      display:flex;\n",
              "      flex-wrap:wrap;\n",
              "      gap: 12px;\n",
              "    }\n",
              "\n",
              "    .colab-df-convert {\n",
              "      background-color: #E8F0FE;\n",
              "      border: none;\n",
              "      border-radius: 50%;\n",
              "      cursor: pointer;\n",
              "      display: none;\n",
              "      fill: #1967D2;\n",
              "      height: 32px;\n",
              "      padding: 0 0 0 0;\n",
              "      width: 32px;\n",
              "    }\n",
              "\n",
              "    .colab-df-convert:hover {\n",
              "      background-color: #E2EBFA;\n",
              "      box-shadow: 0px 1px 2px rgba(60, 64, 67, 0.3), 0px 1px 3px 1px rgba(60, 64, 67, 0.15);\n",
              "      fill: #174EA6;\n",
              "    }\n",
              "\n",
              "    [theme=dark] .colab-df-convert {\n",
              "      background-color: #3B4455;\n",
              "      fill: #D2E3FC;\n",
              "    }\n",
              "\n",
              "    [theme=dark] .colab-df-convert:hover {\n",
              "      background-color: #434B5C;\n",
              "      box-shadow: 0px 1px 3px 1px rgba(0, 0, 0, 0.15);\n",
              "      filter: drop-shadow(0px 1px 2px rgba(0, 0, 0, 0.3));\n",
              "      fill: #FFFFFF;\n",
              "    }\n",
              "  </style>\n",
              "\n",
              "      <script>\n",
              "        const buttonEl =\n",
              "          document.querySelector('#df-4c92e39d-8d7e-44e3-bb30-c83539af06db button.colab-df-convert');\n",
              "        buttonEl.style.display =\n",
              "          google.colab.kernel.accessAllowed ? 'block' : 'none';\n",
              "\n",
              "        async function convertToInteractive(key) {\n",
              "          const element = document.querySelector('#df-4c92e39d-8d7e-44e3-bb30-c83539af06db');\n",
              "          const dataTable =\n",
              "            await google.colab.kernel.invokeFunction('convertToInteractive',\n",
              "                                                     [key], {});\n",
              "          if (!dataTable) return;\n",
              "\n",
              "          const docLinkHtml = 'Like what you see? Visit the ' +\n",
              "            '<a target=\"_blank\" href=https://colab.research.google.com/notebooks/data_table.ipynb>data table notebook</a>'\n",
              "            + ' to learn more about interactive tables.';\n",
              "          element.innerHTML = '';\n",
              "          dataTable['output_type'] = 'display_data';\n",
              "          await google.colab.output.renderOutput(dataTable, element);\n",
              "          const docLink = document.createElement('div');\n",
              "          docLink.innerHTML = docLinkHtml;\n",
              "          element.appendChild(docLink);\n",
              "        }\n",
              "      </script>\n",
              "    </div>\n",
              "  </div>\n",
              "  "
            ],
            "text/plain": [
              "                                                                                                                      Tweet  \\\n",
              "0                                                     [3g, iphone, hr, tweet, austin, dead, need, upgrade, plugin, station]   \n",
              "1                                       [know, awesome, ipad, iphone, app, likely, appreciate, design, also, give, free, t]   \n",
              "2                                                                                                        [wait, also, sale]   \n",
              "3                                                                         [hope, year, festival, crashy, year, iphone, app]   \n",
              "4         [great, stuff, fri, marissa, mayer, google, tim, reilly, tech, book, conference, amp, matt, mullenweg, wordpress]   \n",
              "...                                                                                                                     ...   \n",
              "8692                                                                        [yup, third, app, yet, android, suggestion, cc]   \n",
              "8693                                                                                                     [ipad, everywhere]   \n",
              "8694                                                 [wave, buzz, interrupt, regularly, schedule, geek, program, big, news]   \n",
              "8695  [google, zeiger, physician, never, report, potential, ae, yet, fda, relies, physicians, quot, operate, w, data, quot]   \n",
              "8696                   [verizon, iphone, customer, complain, time, fell, back, hour, weekend, course, new, yorkers, attend]   \n",
              "\n",
              "                 Product         Sentiment   Brand  \n",
              "0                 iPhone  Negative emotion   Apple  \n",
              "1     iPad or iPhone App  Positive emotion   Apple  \n",
              "2                   iPad  Positive emotion   Apple  \n",
              "3     iPad or iPhone App  Negative emotion   Apple  \n",
              "4                 Google  Positive emotion  Google  \n",
              "...                  ...               ...     ...  \n",
              "8692           Undefined        No emotion  Google  \n",
              "8693                iPad  Positive emotion   Apple  \n",
              "8694           Undefined        No emotion  Google  \n",
              "8695           Undefined        No emotion  Google  \n",
              "8696           Undefined        No emotion   Apple  \n",
              "\n",
              "[8697 rows x 4 columns]"
            ]
          },
          "execution_count": 210,
          "metadata": {},
          "output_type": "execute_result"
        }
      ],
      "source": [
        "# The preprocessed data set\n",
        "data"
      ]
    },
    {
      "cell_type": "markdown",
      "source": [
        "In the code cell below, we will convert the lists in the tweet column into a string."
      ],
      "metadata": {
        "id": "Yrc9IcNzkFyi"
      }
    },
    {
      "cell_type": "code",
      "source": [
        "# convert the list into a string\n",
        "data['Tweet'] = data.Tweet.map(lambda x: ' '.join(map(str, x)))\n",
        "data"
      ],
      "metadata": {
        "id": "GqlurQNGkK4V"
      },
      "execution_count": null,
      "outputs": []
    },
    {
      "cell_type": "markdown",
      "source": [
        "### Word Cloud\n",
        "\n",
        "Next, we will plot a word cloud visualization which depicts text in such a way that, the more frequent words appear enlarged as compared to less frequent words. This gives us a little insight into, how the data looks after being processed through all the steps until now."
      ],
      "metadata": {
        "id": "7ozo53K9g6qP"
      }
    },
    {
      "cell_type": "code",
      "source": [
        "mpl.rcParams['figure.figsize'] = 20,8\n",
        "sample_data = data['Tweet']\n",
        "\n",
        "word_cloud =\" \"\n",
        "for row in sample_data:\n",
        "    for word in row:\n",
        "        word_cloud+=\" \".join(word)\n",
        "wordcloud = WordCloud(width = 1000, height = 500,background_color ='white',min_font_size = 10).generate(word_cloud)\n",
        "plt.imshow(wordcloud);"
      ],
      "metadata": {
        "id": "33BxqA7qhAby"
      },
      "execution_count": null,
      "outputs": []
    },
    {
      "cell_type": "markdown",
      "metadata": {
        "id": "8bl54GttayTP"
      },
      "source": [
        "## 5. MODELING AND EVALUATION\n",
        "\n",
        "The step of the project will include the following steps:\n",
        "1. Specifying our X and y.\n",
        "2. Spliting our data into training and testing data\n",
        "3. Vectorizing our data using TF-IDF vectorizer\n",
        "4. Choosing a baseline model\n",
        "5. Tuning the selected baseline model"
      ]
    },
    {
      "cell_type": "code",
      "execution_count": null,
      "metadata": {
        "id": "kxhEmCnwayTP"
      },
      "outputs": [],
      "source": [
        "#Specifying X and y\n",
        "X = data['Tweet']\n",
        "y = data['Sentiment']"
      ]
    },
    {
      "cell_type": "code",
      "execution_count": null,
      "metadata": {
        "id": "2aO312SaayTQ"
      },
      "outputs": [],
      "source": [
        "#Spliting the data into train and test\n",
        "X_train, X_test, y_train, y_test = train_test_split(X, y, test_size=0.2, random_state=42)"
      ]
    },
    {
      "cell_type": "code",
      "execution_count": null,
      "metadata": {
        "id": "knfFMdg7ayTQ"
      },
      "outputs": [],
      "source": [
        "#Instantiate the TfidfVectorizer\n",
        "vectorizer = TfidfVectorizer(max_df=400)\n",
        "\n",
        "#Fitting and transforming the training data\n",
        "X_train_vec = vectorizer.fit_transform(X_train).toarray()\n",
        "\n",
        "#Fitting on test data\n",
        "X_test_vec = vectorizer.transform(X_test).toarray()"
      ]
    },
    {
      "cell_type": "code",
      "execution_count": null,
      "metadata": {
        "colab": {
          "base_uri": "https://localhost:8080/"
        },
        "id": "6IC8Q_QuayTQ",
        "outputId": "21e7e6e6-f5f0-4a99-bf30-20111d899396"
      },
      "outputs": [
        {
          "data": {
            "text/plain": [
              "((6957, 6269), (1740, 6269))"
            ]
          },
          "execution_count": 222,
          "metadata": {},
          "output_type": "execute_result"
        }
      ],
      "source": [
        "#Checking dimensions of vectorized data\n",
        "X_train_vec.shape, X_test_vec.shape\n"
      ]
    },
    {
      "cell_type": "code",
      "execution_count": null,
      "metadata": {
        "colab": {
          "base_uri": "https://localhost:8080/"
        },
        "id": "NbW7WfbzayTU",
        "outputId": "9a51932a-1cf6-4aed-8b36-51104800d5dd"
      },
      "outputs": [
        {
          "data": {
            "text/plain": [
              "MultinomialNB()"
            ]
          },
          "execution_count": 223,
          "metadata": {},
          "output_type": "execute_result"
        }
      ],
      "source": [
        "from sklearn.naive_bayes import MultinomialNB\n",
        "#Instantiate Multinomial\n",
        "model_NB = MultinomialNB()\n",
        "model_NB.fit(X_train_vec, y_train)"
      ]
    },
    {
      "cell_type": "code",
      "execution_count": null,
      "metadata": {
        "id": "awoH8Rs7ayTV"
      },
      "outputs": [],
      "source": [
        "def get_prediction(model, X_train, X_test, y_train, y_test):\n",
        "    y_train_pred = model.predict(X_train)\n",
        "    y_test_pred = model.predict(X_test)\n",
        "    \n",
        "    print('Training Prediction')\n",
        "    print('--------------------')\n",
        "    print(classification_report(y_train, y_train_pred))\n",
        "    print('Test Prediction')\n",
        "    print('--------------------')\n",
        "    print(classification_report(y_test, y_test_pred))\n",
        "    \n",
        "    return y_train_pred, y_test_pred"
      ]
    },
    {
      "cell_type": "code",
      "execution_count": null,
      "metadata": {
        "colab": {
          "base_uri": "https://localhost:8080/"
        },
        "id": "ncHVyFE_ayTV",
        "outputId": "149282ca-1f5d-463d-aaa9-9631528679e3"
      },
      "outputs": [
        {
          "name": "stdout",
          "output_type": "stream",
          "text": [
            "Training Prediction\n",
            "--------------------\n",
            "                  precision    recall  f1-score   support\n",
            "\n",
            "    I can't tell       0.00      0.00      0.00       120\n",
            "Negative emotion       1.00      0.05      0.09       415\n",
            "      No emotion       0.71      0.98      0.82      4139\n",
            "Positive emotion       0.87      0.47      0.61      2283\n",
            "\n",
            "        accuracy                           0.74      6957\n",
            "       macro avg       0.65      0.37      0.38      6957\n",
            "    weighted avg       0.77      0.74      0.70      6957\n",
            "\n",
            "Test Prediction\n",
            "--------------------\n",
            "                  precision    recall  f1-score   support\n",
            "\n",
            "    I can't tell       0.00      0.00      0.00        31\n",
            "Negative emotion       0.67      0.02      0.03       129\n",
            "      No emotion       0.63      0.94      0.75      1002\n",
            "Positive emotion       0.68      0.28      0.39       578\n",
            "\n",
            "        accuracy                           0.63      1740\n",
            "       macro avg       0.49      0.31      0.29      1740\n",
            "    weighted avg       0.64      0.63      0.57      1740\n",
            "\n"
          ]
        }
      ],
      "source": [
        "_, _ = get_prediction(model_NB, X_train_vec, X_test_vec, y_train, y_test)"
      ]
    },
    {
      "cell_type": "code",
      "execution_count": null,
      "metadata": {
        "colab": {
          "base_uri": "https://localhost:8080/"
        },
        "id": "g_NInhiRayTW",
        "outputId": "1ba18a0d-7155-4404-d466-fcbb4366db7c"
      },
      "outputs": [
        {
          "data": {
            "text/plain": [
              "RandomForestClassifier(random_state=0)"
            ]
          },
          "execution_count": 226,
          "metadata": {},
          "output_type": "execute_result"
        }
      ],
      "source": [
        "#Import Random Forest Classifier\n",
        "from sklearn.ensemble import RandomForestClassifier\n",
        "#Instantiate a Random Forest Classifier\n",
        "model_rf = RandomForestClassifier(n_estimators=100, random_state=0)\n",
        "model_rf.fit(X_train_vec, y_train)"
      ]
    },
    {
      "cell_type": "code",
      "execution_count": null,
      "metadata": {
        "colab": {
          "base_uri": "https://localhost:8080/"
        },
        "id": "vmlfXsy2ayTW",
        "outputId": "10289e55-67be-4b12-c4fa-a3ac6c4208fb"
      },
      "outputs": [
        {
          "name": "stdout",
          "output_type": "stream",
          "text": [
            "Training Prediction\n",
            "--------------------\n",
            "                  precision    recall  f1-score   support\n",
            "\n",
            "    I can't tell       0.95      0.87      0.90       120\n",
            "Negative emotion       0.98      0.92      0.95       415\n",
            "      No emotion       0.95      0.98      0.96      4139\n",
            "Positive emotion       0.96      0.92      0.94      2283\n",
            "\n",
            "        accuracy                           0.95      6957\n",
            "       macro avg       0.96      0.92      0.94      6957\n",
            "    weighted avg       0.95      0.95      0.95      6957\n",
            "\n",
            "Test Prediction\n",
            "--------------------\n",
            "                  precision    recall  f1-score   support\n",
            "\n",
            "    I can't tell       0.00      0.00      0.00        31\n",
            "Negative emotion       0.73      0.15      0.25       129\n",
            "      No emotion       0.68      0.82      0.74      1002\n",
            "Positive emotion       0.59      0.49      0.54       578\n",
            "\n",
            "        accuracy                           0.65      1740\n",
            "       macro avg       0.50      0.37      0.38      1740\n",
            "    weighted avg       0.64      0.65      0.62      1740\n",
            "\n"
          ]
        }
      ],
      "source": [
        "_, _ = get_prediction(model_rf, X_train_vec, X_test_vec, y_train, y_test)"
      ]
    },
    {
      "cell_type": "code",
      "execution_count": null,
      "metadata": {
        "colab": {
          "base_uri": "https://localhost:8080/"
        },
        "id": "F194249CayTW",
        "outputId": "b4bf45ec-5e3c-47bb-be79-05c339394fc3"
      },
      "outputs": [
        {
          "data": {
            "text/plain": [
              "LogisticRegression()"
            ]
          },
          "execution_count": 228,
          "metadata": {},
          "output_type": "execute_result"
        }
      ],
      "source": [
        "from sklearn.linear_model import LogisticRegression\n",
        "model_lr =LogisticRegression()\n",
        "model_lr.fit(X_train_vec, y_train)"
      ]
    },
    {
      "cell_type": "code",
      "execution_count": null,
      "metadata": {
        "colab": {
          "base_uri": "https://localhost:8080/"
        },
        "id": "uD4Q6zIMayTW",
        "outputId": "e50f2712-c9bb-4410-dffe-cfd45935598a"
      },
      "outputs": [
        {
          "name": "stdout",
          "output_type": "stream",
          "text": [
            "Training Prediction\n",
            "--------------------\n",
            "                  precision    recall  f1-score   support\n",
            "\n",
            "    I can't tell       0.00      0.00      0.00       120\n",
            "Negative emotion       0.91      0.15      0.26       415\n",
            "      No emotion       0.77      0.95      0.85      4139\n",
            "Positive emotion       0.84      0.64      0.73      2283\n",
            "\n",
            "        accuracy                           0.79      6957\n",
            "       macro avg       0.63      0.44      0.46      6957\n",
            "    weighted avg       0.79      0.79      0.76      6957\n",
            "\n",
            "Test Prediction\n",
            "--------------------\n",
            "                  precision    recall  f1-score   support\n",
            "\n",
            "    I can't tell       0.00      0.00      0.00        31\n",
            "Negative emotion       0.73      0.06      0.11       129\n",
            "      No emotion       0.67      0.86      0.75      1002\n",
            "Positive emotion       0.60      0.46      0.52       578\n",
            "\n",
            "        accuracy                           0.65      1740\n",
            "       macro avg       0.50      0.34      0.35      1740\n",
            "    weighted avg       0.64      0.65      0.61      1740\n",
            "\n"
          ]
        }
      ],
      "source": [
        "_, _ = get_prediction(model_lr, X_train_vec, X_test_vec, y_train, y_test)"
      ]
    },
    {
      "cell_type": "markdown",
      "metadata": {
        "id": "EQ1d8BWuayTX"
      },
      "source": [
        "## Hyperparameters tuning"
      ]
    },
    {
      "cell_type": "markdown",
      "metadata": {
        "id": "iKeAP9oxayTX"
      },
      "source": []
    },
    {
      "cell_type": "code",
      "execution_count": null,
      "metadata": {
        "id": "uzfBEmbaayTX"
      },
      "outputs": [],
      "source": [
        "param_grid = [    \n",
        "    {'penalty' : ['l1', 'l2', 'elasticnet'],\n",
        "    'solver' : ['saga'],\n",
        "     'random_state':[0]\n",
        "    }\n",
        "]"
      ]
    },
    {
      "cell_type": "code",
      "execution_count": null,
      "metadata": {
        "id": "J8SPdVRaayTY"
      },
      "outputs": [],
      "source": [
        "lr = GridSearchCV(model_lr, param_grid = param_grid, cv = 3)"
      ]
    },
    {
      "cell_type": "code",
      "execution_count": null,
      "metadata": {
        "id": "S7G3ExXAayTY"
      },
      "outputs": [],
      "source": [
        "lr_grid = lr.fit(X_train_vec, y_train)"
      ]
    },
    {
      "cell_type": "code",
      "execution_count": null,
      "metadata": {
        "id": "ONVYc1AyayTY"
      },
      "outputs": [],
      "source": [
        "_, _ = get_prediction(lr_grid, X_train_vec, X_test_vec, y_train, y_test)"
      ]
    },
    {
      "cell_type": "markdown",
      "metadata": {
        "id": "xadDINObz8l6"
      },
      "source": [
        "## Long Short Term Memory Networks"
      ]
    },
    {
      "cell_type": "code",
      "execution_count": null,
      "metadata": {
        "id": "gdvF2PVcz3r3"
      },
      "outputs": [],
      "source": [
        "# preview the data\n",
        "data1\n"
      ]
    },
    {
      "cell_type": "code",
      "execution_count": null,
      "metadata": {
        "id": "nR-308H08x8V"
      },
      "outputs": [],
      "source": [
        "from keras.preprocessing.sequence import pad_sequences\n",
        "from keras.layers import Input, Dense, LSTM, Embedding\n",
        "from keras.layers import Dropout, Activation, Bidirectional, GlobalMaxPool1D\n",
        "from keras.models import Sequential\n",
        "from keras import initializers, regularizers, constraints, optimizers, layers\n",
        "from keras.preprocessing import text, sequence"
      ]
    },
    {
      "cell_type": "code",
      "execution_count": null,
      "metadata": {
        "id": "TN7dytTR9PJs"
      },
      "outputs": [],
      "source": [
        "target = data1['Sentiment']"
      ]
    },
    {
      "cell_type": "code",
      "execution_count": null,
      "metadata": {
        "id": "z4Uwrr28871r"
      },
      "outputs": [],
      "source": [
        "y = pd.get_dummies(target).values"
      ]
    },
    {
      "cell_type": "code",
      "execution_count": null,
      "metadata": {
        "id": "57gvcBTSz3mw"
      },
      "outputs": [],
      "source": [
        "\n",
        "tokenizer = text.Tokenizer(num_words=20000)\n",
        "tokenizer.fit_on_texts(data1['Tweet'])\n",
        "list_tokenized_headlines = tokenizer.texts_to_sequences(data1['Tweet'])\n",
        "X_t = sequence.pad_sequences(list_tokenized_headlines, maxlen=100)"
      ]
    },
    {
      "cell_type": "code",
      "execution_count": null,
      "metadata": {
        "id": "G9svIewaDHY2"
      },
      "outputs": [],
      "source": [
        "X_train, X_test, y_train, y_test = train_test_split(X_t, y, test_size=0.2, random_state=42)"
      ]
    },
    {
      "cell_type": "code",
      "execution_count": null,
      "metadata": {
        "id": "Mgpx2qN2z3hd"
      },
      "outputs": [],
      "source": [
        "model = Sequential()"
      ]
    },
    {
      "cell_type": "code",
      "execution_count": null,
      "metadata": {
        "id": "tdvQOoEyz3cw"
      },
      "outputs": [],
      "source": [
        "embedding_size = 128\n",
        "model.add(Embedding(20000, embedding_size))\n",
        "model.add(LSTM(25, return_sequences=True))\n",
        "model.add(GlobalMaxPool1D())\n",
        "model.add(Dropout(0.5))\n",
        "model.add(Dense(20, activation='relu'))\n",
        "model.add(Dropout(0.5))\n",
        "model.add(Dense(4, activation='softmax'))"
      ]
    },
    {
      "cell_type": "code",
      "execution_count": null,
      "metadata": {
        "id": "NXYT94aaz3ZI"
      },
      "outputs": [],
      "source": [
        "model.compile(loss='categorical_crossentropy', \n",
        "              optimizer='adam', \n",
        "              metrics=['accuracy'])"
      ]
    },
    {
      "cell_type": "code",
      "execution_count": null,
      "metadata": {
        "id": "tm6G0DWxz3Wo"
      },
      "outputs": [],
      "source": [
        "model.summary()"
      ]
    },
    {
      "cell_type": "code",
      "execution_count": null,
      "metadata": {
        "id": "wZXxS1jcz3Ty"
      },
      "outputs": [],
      "source": [
        "model.fit(X_train, y_train, epochs=5, batch_size=32, validation_split=0.2)"
      ]
    },
    {
      "cell_type": "code",
      "execution_count": null,
      "metadata": {
        "id": "qJdsZ_IVz3Aw"
      },
      "outputs": [],
      "source": [
        "model.evaluate(X_test,y_test)"
      ]
    },
    {
      "cell_type": "markdown",
      "metadata": {
        "id": "QBLZQTg_wPHT"
      },
      "source": [
        "#Evaluation\n",
        "\n",
        "how well did your final model perform?\n",
        "\n",
        "Include one or more relevant metrics \n",
        "\n",
        "Be sure to briefly describe your validation approach\n",
        "\n",
        "##Final Model\n",
        "pick the best model from all our models\n",
        "\n",
        "explain why it is our best model\n",
        "\n",
        "Model it once again\n",
        "\n",
        "evaluate and validate it\n",
        "\n",
        "explain its performance\n",
        "##Findings and Recommendations\n",
        "##Next Steps"
      ]
    },
    {
      "cell_type": "markdown",
      "metadata": {
        "id": "lNExUIguw1Sr"
      },
      "source": [
        "##Complement naive bayes model"
      ]
    },
    {
      "cell_type": "markdown",
      "metadata": {
        "id": "wsEaMMRJ4x9i"
      },
      "source": [
        "This model used a tfidf vectorizer with a ScikitLearn's Complement Naive Bayes classifier. This classifier is designed to remedy class imbalance, which is a significant hurdle in this problem"
      ]
    },
    {
      "cell_type": "code",
      "execution_count": null,
      "metadata": {
        "id": "gZmFZ6CT0WSZ"
      },
      "outputs": [],
      "source": [
        "#imorting complementNB\n",
        "from sklearn.naive_bayes import ComplementNB\n",
        "clf = ComplementNB()\n",
        "clf.fit(X_train_vec, y_train)\n"
      ]
    },
    {
      "cell_type": "code",
      "execution_count": null,
      "metadata": {
        "id": "kIaBFnk20-BD"
      },
      "outputs": [],
      "source": [
        "_, _ = get_prediction(clf, X_train_vec, X_test_vec, y_train, y_test)"
      ]
    },
    {
      "cell_type": "code",
      "execution_count": null,
      "metadata": {
        "id": "PFGO3Xljyu6N"
      },
      "outputs": [],
      "source": [
        "#Import confusionmatrix from sklearn\n",
        "from sklearn.metrics import confusion_matrix, ConfusionMatrixDisplay\n",
        "ConfusionMatrixDisplay.from_estimator(clf, X_train_vec, y_train, cmap=\"Greens\")\n",
        "#ploting confusionmatrix\n",
        "plt.grid(False)\n",
        "plt.title('Test Matrix for multinomial complement')\n",
        "plt.xticks(rotation = 45)\n",
        "plt.show()"
      ]
    },
    {
      "cell_type": "code",
      "execution_count": null,
      "metadata": {
        "id": "zV-_FwAd3RgW"
      },
      "outputs": [],
      "source": [
        "ConfusionMatrixDisplay.from_estimator(clf, X_test_vec, y_test, cmap=\"Greens\")\n",
        "#ploting confusion matrix\n",
        "plt.grid(False)\n",
        "plt.title('Test Matrix for multinomial complement')\n",
        "plt.xticks(rotation = 45)\n",
        "plt.show()"
      ]
    },
    {
      "cell_type": "markdown",
      "metadata": {
        "id": "LhHDrBYG3xFo"
      },
      "source": [
        "Given the low prior probability of being in the negative category and i can't tell, we can see that the model is mostly just throwing things into the \"no emotion category and completely ignoring the negative and i can't tell category. Clearly class imbalance is a big deal in this data."
      ]
    },
    {
      "cell_type": "markdown",
      "metadata": {
        "id": "bOgmCpa2RdtM"
      },
      "source": [
        "## Best model"
      ]
    },
    {
      "cell_type": "code",
      "execution_count": null,
      "metadata": {
        "id": "FO9CRi6V35j1"
      },
      "outputs": [],
      "source": [
        "from sklearn.naive_bayes import MultinomialNB\n",
        "#Instantiate Multinomial\n",
        "model_NB = MultinomialNB()\n",
        "model_NB.fit(X_train_vec, y_train)"
      ]
    },
    {
      "cell_type": "code",
      "execution_count": null,
      "metadata": {
        "id": "AzhkTps_6MiX"
      },
      "outputs": [],
      "source": [
        "_, _ = get_prediction(model_NB, X_train_vec, X_test_vec, y_train, y_test)"
      ]
    },
    {
      "cell_type": "code",
      "execution_count": null,
      "metadata": {
        "id": "DzOvbflh6OIy"
      },
      "outputs": [],
      "source": [
        "ConfusionMatrixDisplay.from_estimator(model_NB, X_train_vec, y_train, cmap=\"Greens\")\n",
        "\n",
        "plt.grid(False)\n",
        "plt.title('Test Matrix for MultinomialNB')\n",
        "plt.xticks(rotation = 45)\n",
        "plt.show()"
      ]
    },
    {
      "cell_type": "code",
      "execution_count": null,
      "metadata": {
        "id": "Xkzi_UuA6aK1"
      },
      "outputs": [],
      "source": [
        "ConfusionMatrixDisplay.from_estimator(model_NB, X_test_vec, y_test, cmap=\"Greens\")\n",
        "\n",
        "plt.grid(False)\n",
        "plt.title('Test Matrix for multinomialNB')\n",
        "plt.xticks(rotation = 45)\n",
        "plt.show()"
      ]
    },
    {
      "cell_type": "markdown",
      "metadata": {
        "id": "Ozun2EBgMP2U"
      },
      "source": [
        "### Priority\n",
        "We will work with f1score since it combines precision and recall into a single metric by taking their harmonic mean - it's more important that we are conservative and lower our false negatives - so we can see what the negative tweets are saying and if it's worth investigating or responding to.\n"
      ]
    },
    {
      "cell_type": "markdown",
      "metadata": {
        "id": "I4PFZABf8ajo"
      },
      "source": [
        "## Model Validation"
      ]
    },
    {
      "cell_type": "code",
      "execution_count": null,
      "metadata": {
        "id": "-gJ4rXrw6h8s"
      },
      "outputs": [],
      "source": [
        "#evaluate by cross validation\n",
        "from sklearn.model_selection import cross_val_score\n",
        "print(cross_val_score(model_NB, X_test_vec, y_test, cv=3))"
      ]
    },
    {
      "cell_type": "markdown",
      "metadata": {
        "id": "BHn16aLN8shG"
      },
      "source": [
        "## Findings"
      ]
    },
    {
      "cell_type": "markdown",
      "metadata": {
        "id": "ordw3I-R84zT"
      },
      "source": [
        "The first model I tested used ScikitLearn's tfidf Vectorizer to turn each tweet into a numerical vector by counting how many times each word appeared in the tweet. For this initial model, I included only single words and not n-grams in the vectorizer, and I did not set a maximum limit on the number of features. I then fed the vectorized tweets into ScikitLearn's Multinomial Naive Bayes classifier. This classifier supports binary as well as multi-class problems."
      ]
    },
    {
      "cell_type": "markdown",
      "metadata": {
        "id": "ut1_xhKKEAdO"
      },
      "source": [
        "Our naive bayes model had an f1 score of 74% on train data and 63% on test data, which means that F1-score takes both precision and recall into account, which also means it accounts for both FPs and FNs."
      ]
    },
    {
      "cell_type": "markdown",
      "metadata": {
        "id": "LNhUXua_FHPB"
      },
      "source": [
        "## Recommendatation"
      ]
    },
    {
      "cell_type": "markdown",
      "metadata": {
        "id": "QQL4EghaFYp0"
      },
      "source": [
        "Looking at the f1 score and confusion matrix of all the models, at this time the best model will be the MultiNomial Naïve Bayes model. Although not great the MultiNomial Naïve Bayes model has the highest f1score overall.Exploring other models in future could improve the overall performance."
      ]
    },
    {
      "cell_type": "markdown",
      "metadata": {
        "id": "4u2Q9nYDJCxL"
      },
      "source": [
        "## Future recommendations\n",
        "1.\tNatural language processing is a complex area of machine learning that has many different tools available for data scientists. Testing additional vectorizers and models may improve on these results. Pre-trained vectorizers such as Google's Word2Vec, Stanford's GloVe, and SpaCy may produce better results.\n",
        "2.\t For future  similar events, we will also be able to deploy this model to detect consumer/brand sentiment in real-time.\n",
        "3.\tScrape for more data to possibly balance the four classes, especially negative and positive tweets.\n",
        "4.\tBuild a binary class focus on only the positive and negative comments then add the neutral comments later on.\n",
        "5.\tObtain more tweet-data from other tech companies, particularly small startups and PR companies"
      ]
    },
    {
      "cell_type": "markdown",
      "metadata": {
        "id": "CSTac7SgKV5K"
      },
      "source": [
        "# Next Steps\n",
        "1.\tExplore more ways to clean the tweet data and see how they affect the model\n",
        "2.\tScrape and train on recent tweets because our dataset is from 2013 and technology is constantly changing\n",
        "3.\tAdding tweets about other sectors without being specific to certain brands could make the model more generalizable\n",
        "4.\tTrain on more data including tweets with no products.\n",
        "5.\tExplore other forms of social media using the same vectorization method."
      ]
    }
  ],
  "metadata": {
    "colab": {
      "collapsed_sections": [],
      "provenance": []
    },
    "kernelspec": {
      "display_name": "Python 3.8.5 ('learn-env')",
      "language": "python",
      "name": "python3"
    },
    "language_info": {
      "codemirror_mode": {
        "name": "ipython",
        "version": 3
      },
      "file_extension": ".py",
      "mimetype": "text/x-python",
      "name": "python",
      "nbconvert_exporter": "python",
      "pygments_lexer": "ipython3",
      "version": "3.8.5"
    },
    "vscode": {
      "interpreter": {
        "hash": "2f6755944dd586306f6b4f95278b517ddf3bf95bd70c3d0c3190eb84811895db"
      }
    }
  },
  "nbformat": 4,
  "nbformat_minor": 0
}